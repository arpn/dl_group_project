{
 "cells": [
  {
   "cell_type": "markdown",
   "metadata": {},
   "source": [
    "# DATA20001 Deep Learning - Group Project\n",
    "## Text project\n",
    "\n",
    "**Due Thursday, December 13, before 23:59.**\n",
    "\n",
    "The task is to learn to assign the correct labels to news articles.  The corpus contains ~850K articles from Reuters.  The test set is about 10% of the articles. The data is unextracted in XML files.\n",
    "\n",
    "We're only giving you the code for downloading the data, and how to save the final model. The rest you'll have to do yourselves.\n",
    "\n",
    "Some comments and hints particular to the project:\n",
    "\n",
    "- One document may belong to many classes in this problem, i.e., it's a multi-label classification problem. In fact there are documents that don't belong to any class, and you should also be able to handle these correctly. Pay careful attention to how you design the outputs of the network (e.g., what activation to use) and what loss function should be used.\n",
    "- You may use word-embeddings to get better results. For example, you were already using a smaller version of the GloVE  embeddings in exercise 4. Do note that these embeddings take a lot of memory. \n",
    "- In the exercises we used e.g., `torchvision.datasets.MNIST` to handle the loading of the data in suitable batches. Here, you need to handle the dataloading yourself.  The easiest way is probably to create a custom `Dataset`. [See for example here for a tutorial](https://github.com/utkuozbulak/pytorch-custom-dataset-examples)."
   ]
  },
  {
   "cell_type": "markdown",
   "metadata": {},
   "source": [
    "## Download the data"
   ]
  },
  {
   "cell_type": "code",
   "execution_count": 1,
   "metadata": {},
   "outputs": [
    {
     "name": "stdout",
     "output_type": "stream",
     "text": [
      "Downloading https://www.cs.helsinki.fi/u/jgpyykko/reuters.zip to train/reuters.zip\n"
     ]
    }
   ],
   "source": [
    "import os\n",
    "import torch\n",
    "from torchvision.datasets.utils import download_url\n",
    "import zipfile\n",
    "\n",
    "train_path = 'train/'\n",
    "\n",
    "dl_file='reuters.zip'\n",
    "dl_url='https://www.cs.helsinki.fi/u/jgpyykko/'\n",
    "zip_path = os.path.join(train_path, dl_file)\n",
    "if not os.path.isfile(zip_path):\n",
    "    download_url(dl_url + dl_file, root=train_path, filename=dl_file, md5=None)\n",
    "\n",
    "with zipfile.ZipFile(zip_path) as zip_f:\n",
    "    zip_f.extractall(train_path)\n",
    "    #os.unlink(zip_path)"
   ]
  },
  {
   "cell_type": "markdown",
   "metadata": {},
   "source": [
    "The above command downloads and extracts the data files into the `train` subdirectory.\n",
    "\n",
    "The files can be found in `train/`, and are named as `19970405.zip`, etc. You will have to manage the content of these zips to get the data. There is a readme which has links to further descriptions on the data.\n",
    "\n",
    "The class labels, or topics, can be found in the readme file called `train/codes.zip`.  The zip contains a file called \"topic_codes.txt\".  This file contains the special codes for the topics (about 130 of them), and the explanation - what each code means.  \n",
    "\n",
    "The XML document files contain the article's headline, the main body text, and the list of topic labels assigned to each article.  You will have to extract the topics of each article from the XML.  For example: \n",
    "&lt;code code=\"C18\"&gt; refers to the topic \"OWNERSHIP CHANGES\" (like a corporate buyout).\n",
    "\n",
    "You should pre-process the XML to extract the words from the article: the &lt;headline&gt; element and the &lt;text&gt;.  You should not need any other parts of the article."
   ]
  },
  {
   "cell_type": "markdown",
   "metadata": {},
   "source": [
    "## Imports"
   ]
  },
  {
   "cell_type": "code",
   "execution_count": 23,
   "metadata": {},
   "outputs": [],
   "source": [
    "import torch\n",
    "import torch.optim as optim\n",
    "import torch.nn as nn\n",
    "import torch.nn.functional as F\n",
    "from torch.utils.data.dataset import Dataset\n",
    "import numpy as np\n",
    "import xml.etree.ElementTree as ET\n",
    "import pandas as pd\n",
    "import time\n",
    "import matplotlib.pyplot as plt"
   ]
  },
  {
   "cell_type": "markdown",
   "metadata": {},
   "source": [
    "## Data preprocessing\n",
    "This processes the zips in `train/` without additional extractions to disk and produces a pandas dataframe with results. Finally this dataframe is written to disk in a compressed form for subsequent use."
   ]
  },
  {
   "cell_type": "code",
   "execution_count": 28,
   "metadata": {},
   "outputs": [
    {
     "name": "stdout",
     "output_type": "stream",
     "text": [
      "Processing data in train/REUTERS_CORPUS_2/\n",
      "...............................................................................................................................\n",
      "Compressing dataframe to train/train.json.xz\n"
     ]
    },
    {
     "data": {
      "text/html": [
       "<div>\n",
       "<style scoped>\n",
       "    .dataframe tbody tr th:only-of-type {\n",
       "        vertical-align: middle;\n",
       "    }\n",
       "\n",
       "    .dataframe tbody tr th {\n",
       "        vertical-align: top;\n",
       "    }\n",
       "\n",
       "    .dataframe thead th {\n",
       "        text-align: right;\n",
       "    }\n",
       "</style>\n",
       "<table border=\"1\" class=\"dataframe\">\n",
       "  <thead>\n",
       "    <tr style=\"text-align: right;\">\n",
       "      <th></th>\n",
       "      <th>headline</th>\n",
       "      <th>title</th>\n",
       "      <th>text</th>\n",
       "      <th>codes</th>\n",
       "    </tr>\n",
       "  </thead>\n",
       "  <tbody>\n",
       "    <tr>\n",
       "      <th>0</th>\n",
       "      <td>Tokyo stocks likely to rise after Dow rebound.</td>\n",
       "      <td>JAPAN: Tokyo stocks likely to rise after Dow r...</td>\n",
       "      <td>Tokyo stocks are likely to rise in Tuesday's s...</td>\n",
       "      <td>[M11, MCAT]</td>\n",
       "    </tr>\n",
       "    <tr>\n",
       "      <th>1</th>\n",
       "      <td>OFFICIAL JOURNAL CONTENTS - OJ C 111 OF APRIL ...</td>\n",
       "      <td>EU:  OFFICIAL JOURNAL CONTENTS - OJ C 111 OF A...</td>\n",
       "      <td>*\\nCommon position (EC) No 11/97 of 20 Decembe...</td>\n",
       "      <td>[G15, GCAT]</td>\n",
       "    </tr>\n",
       "    <tr>\n",
       "      <th>2</th>\n",
       "      <td>OFFICIAL JOURNAL CONTENTS - OJ C 113 OF APRIL ...</td>\n",
       "      <td>EU:  OFFICIAL JOURNAL CONTENTS - OJ C 113 OF A...</td>\n",
       "      <td>*\\nEcu (97/C 113/01)\\nProposal for a Council D...</td>\n",
       "      <td>[G15, GCAT]</td>\n",
       "    </tr>\n",
       "    <tr>\n",
       "      <th>3</th>\n",
       "      <td>OFFICIAL JOURNAL CONTENTS - OJ C 114 OF APRIL ...</td>\n",
       "      <td>EU:  OFFICIAL JOURNAL CONTENTS - OJ C 114 OF A...</td>\n",
       "      <td>*\\n(Note - contents are displayed in reverse o...</td>\n",
       "      <td>[G15, GCAT]</td>\n",
       "    </tr>\n",
       "    <tr>\n",
       "      <th>4</th>\n",
       "      <td>OFFICIAL JOURNAL CONTENTS - OJ L 97 OF APRIL 1...</td>\n",
       "      <td>EU:  OFFICIAL JOURNAL CONTENTS - OJ L 97 OF AP...</td>\n",
       "      <td>*\\n(Note - contents are displayed in reverse o...</td>\n",
       "      <td>[G15, GCAT]</td>\n",
       "    </tr>\n",
       "  </tbody>\n",
       "</table>\n",
       "</div>"
      ],
      "text/plain": [
       "                                            headline  \\\n",
       "0     Tokyo stocks likely to rise after Dow rebound.   \n",
       "1  OFFICIAL JOURNAL CONTENTS - OJ C 111 OF APRIL ...   \n",
       "2  OFFICIAL JOURNAL CONTENTS - OJ C 113 OF APRIL ...   \n",
       "3  OFFICIAL JOURNAL CONTENTS - OJ C 114 OF APRIL ...   \n",
       "4  OFFICIAL JOURNAL CONTENTS - OJ L 97 OF APRIL 1...   \n",
       "\n",
       "                                               title  \\\n",
       "0  JAPAN: Tokyo stocks likely to rise after Dow r...   \n",
       "1  EU:  OFFICIAL JOURNAL CONTENTS - OJ C 111 OF A...   \n",
       "2  EU:  OFFICIAL JOURNAL CONTENTS - OJ C 113 OF A...   \n",
       "3  EU:  OFFICIAL JOURNAL CONTENTS - OJ C 114 OF A...   \n",
       "4  EU:  OFFICIAL JOURNAL CONTENTS - OJ L 97 OF AP...   \n",
       "\n",
       "                                                text        codes  \n",
       "0  Tokyo stocks are likely to rise in Tuesday's s...  [M11, MCAT]  \n",
       "1  *\\nCommon position (EC) No 11/97 of 20 Decembe...  [G15, GCAT]  \n",
       "2  *\\nEcu (97/C 113/01)\\nProposal for a Council D...  [G15, GCAT]  \n",
       "3  *\\n(Note - contents are displayed in reverse o...  [G15, GCAT]  \n",
       "4  *\\n(Note - contents are displayed in reverse o...  [G15, GCAT]  "
      ]
     },
     "execution_count": 28,
     "metadata": {},
     "output_type": "execute_result"
    }
   ],
   "source": [
    "def getHeadline(root):\n",
    "    return root.find('headline').text\n",
    "\n",
    "def getTitle(root):\n",
    "    return root.find('title').text\n",
    "\n",
    "def getCodes(root):\n",
    "    metaElem = root.find('metadata')\n",
    "    codesElem = metaElem.findall('codes')\n",
    "    codes = []\n",
    "    for c in codesElem:\n",
    "        # Get only topic codes\n",
    "        if c.attrib['class'] == 'bip:topics:1.0':\n",
    "            for code in c:\n",
    "                codes.append(code.attrib['code'])\n",
    "    return codes\n",
    "\n",
    "def getText(root):\n",
    "    ps = root.find('text').findall('p')\n",
    "    text = []\n",
    "    for p in ps:\n",
    "        text.append(p.text)\n",
    "    return '\\n'.join(text)\n",
    "\n",
    "def parseXML(file):\n",
    "    root = ET.parse(file).getroot()\n",
    "    return getHeadline(root), getTitle(root), getText(root), getCodes(root)\n",
    "\n",
    "def parseZip(file):\n",
    "    zf = zipfile.ZipFile(file, 'r')\n",
    "    for xml in zf.namelist():\n",
    "        h,t,txt,cs = parseXML(zf.open(xml))\n",
    "        headlines.append(h)\n",
    "        titles.append(t)\n",
    "        texts.append(txt)\n",
    "        codes.append(cs)\n",
    "\n",
    "data_path = 'train/REUTERS_CORPUS_2/'\n",
    "headlines, titles, texts, codes = [], [], [], []\n",
    "print('Processing data in', data_path)\n",
    "for f in os.listdir(data_path):\n",
    "    if f.startswith(\"1997\") and f.endswith(\".zip\"):\n",
    "        print('.', end='')\n",
    "        parseZip(data_path+f)\n",
    "\n",
    "df = pd.DataFrame({'headline': headlines, 'title': titles, 'text': texts, 'codes': codes})\n",
    "print('\\nCompressing dataframe to train/train.json.xz')\n",
    "df.to_json('train/train.json.xz', orient='records', compression='xz')\n",
    "df.head()"
   ]
  },
  {
   "cell_type": "markdown",
   "metadata": {},
   "source": [
    "## Load a preprocessed dataframe"
   ]
  },
  {
   "cell_type": "code",
   "execution_count": 3,
   "metadata": {},
   "outputs": [
    {
     "data": {
      "text/html": [
       "<div>\n",
       "<style scoped>\n",
       "    .dataframe tbody tr th:only-of-type {\n",
       "        vertical-align: middle;\n",
       "    }\n",
       "\n",
       "    .dataframe tbody tr th {\n",
       "        vertical-align: top;\n",
       "    }\n",
       "\n",
       "    .dataframe thead th {\n",
       "        text-align: right;\n",
       "    }\n",
       "</style>\n",
       "<table border=\"1\" class=\"dataframe\">\n",
       "  <thead>\n",
       "    <tr style=\"text-align: right;\">\n",
       "      <th></th>\n",
       "      <th>codes</th>\n",
       "      <th>headline</th>\n",
       "      <th>text</th>\n",
       "      <th>title</th>\n",
       "    </tr>\n",
       "  </thead>\n",
       "  <tbody>\n",
       "    <tr>\n",
       "      <th>0</th>\n",
       "      <td>[M11, MCAT]</td>\n",
       "      <td>Tokyo stocks likely to rise after Dow rebound.</td>\n",
       "      <td>Tokyo stocks are likely to rise in Tuesday's s...</td>\n",
       "      <td>JAPAN: Tokyo stocks likely to rise after Dow r...</td>\n",
       "    </tr>\n",
       "    <tr>\n",
       "      <th>1</th>\n",
       "      <td>[G15, GCAT]</td>\n",
       "      <td>OFFICIAL JOURNAL CONTENTS - OJ C 111 OF APRIL ...</td>\n",
       "      <td>*\\nCommon position (EC) No 11/97 of 20 Decembe...</td>\n",
       "      <td>EU:  OFFICIAL JOURNAL CONTENTS - OJ C 111 OF A...</td>\n",
       "    </tr>\n",
       "    <tr>\n",
       "      <th>2</th>\n",
       "      <td>[G15, GCAT]</td>\n",
       "      <td>OFFICIAL JOURNAL CONTENTS - OJ C 113 OF APRIL ...</td>\n",
       "      <td>*\\nEcu (97/C 113/01)\\nProposal for a Council D...</td>\n",
       "      <td>EU:  OFFICIAL JOURNAL CONTENTS - OJ C 113 OF A...</td>\n",
       "    </tr>\n",
       "    <tr>\n",
       "      <th>3</th>\n",
       "      <td>[G15, GCAT]</td>\n",
       "      <td>OFFICIAL JOURNAL CONTENTS - OJ C 114 OF APRIL ...</td>\n",
       "      <td>*\\n(Note - contents are displayed in reverse o...</td>\n",
       "      <td>EU:  OFFICIAL JOURNAL CONTENTS - OJ C 114 OF A...</td>\n",
       "    </tr>\n",
       "    <tr>\n",
       "      <th>4</th>\n",
       "      <td>[G15, GCAT]</td>\n",
       "      <td>OFFICIAL JOURNAL CONTENTS - OJ L 97 OF APRIL 1...</td>\n",
       "      <td>*\\n(Note - contents are displayed in reverse o...</td>\n",
       "      <td>EU:  OFFICIAL JOURNAL CONTENTS - OJ L 97 OF AP...</td>\n",
       "    </tr>\n",
       "  </tbody>\n",
       "</table>\n",
       "</div>"
      ],
      "text/plain": [
       "         codes                                           headline  \\\n",
       "0  [M11, MCAT]     Tokyo stocks likely to rise after Dow rebound.   \n",
       "1  [G15, GCAT]  OFFICIAL JOURNAL CONTENTS - OJ C 111 OF APRIL ...   \n",
       "2  [G15, GCAT]  OFFICIAL JOURNAL CONTENTS - OJ C 113 OF APRIL ...   \n",
       "3  [G15, GCAT]  OFFICIAL JOURNAL CONTENTS - OJ C 114 OF APRIL ...   \n",
       "4  [G15, GCAT]  OFFICIAL JOURNAL CONTENTS - OJ L 97 OF APRIL 1...   \n",
       "\n",
       "                                                text  \\\n",
       "0  Tokyo stocks are likely to rise in Tuesday's s...   \n",
       "1  *\\nCommon position (EC) No 11/97 of 20 Decembe...   \n",
       "2  *\\nEcu (97/C 113/01)\\nProposal for a Council D...   \n",
       "3  *\\n(Note - contents are displayed in reverse o...   \n",
       "4  *\\n(Note - contents are displayed in reverse o...   \n",
       "\n",
       "                                               title  \n",
       "0  JAPAN: Tokyo stocks likely to rise after Dow r...  \n",
       "1  EU:  OFFICIAL JOURNAL CONTENTS - OJ C 111 OF A...  \n",
       "2  EU:  OFFICIAL JOURNAL CONTENTS - OJ C 113 OF A...  \n",
       "3  EU:  OFFICIAL JOURNAL CONTENTS - OJ C 114 OF A...  \n",
       "4  EU:  OFFICIAL JOURNAL CONTENTS - OJ L 97 OF AP...  "
      ]
     },
     "execution_count": 3,
     "metadata": {},
     "output_type": "execute_result"
    }
   ],
   "source": [
    "df = pd.read_json('train/train.json.xz', compression='xz')\n",
    "#df = df.sample(frac=0.2) # Uncomment to work with a smaller subset of data\n",
    "df.head()"
   ]
  },
  {
   "cell_type": "markdown",
   "metadata": {},
   "source": [
    "There are few items with no headline... Replace with \" \"."
   ]
  },
  {
   "cell_type": "code",
   "execution_count": 4,
   "metadata": {},
   "outputs": [
    {
     "data": {
      "text/html": [
       "<div>\n",
       "<style scoped>\n",
       "    .dataframe tbody tr th:only-of-type {\n",
       "        vertical-align: middle;\n",
       "    }\n",
       "\n",
       "    .dataframe tbody tr th {\n",
       "        vertical-align: top;\n",
       "    }\n",
       "\n",
       "    .dataframe thead th {\n",
       "        text-align: right;\n",
       "    }\n",
       "</style>\n",
       "<table border=\"1\" class=\"dataframe\">\n",
       "  <thead>\n",
       "    <tr style=\"text-align: right;\">\n",
       "      <th></th>\n",
       "      <th>codes</th>\n",
       "      <th>headline</th>\n",
       "      <th>text</th>\n",
       "      <th>title</th>\n",
       "    </tr>\n",
       "  </thead>\n",
       "  <tbody>\n",
       "    <tr>\n",
       "      <th>54188</th>\n",
       "      <td>[]</td>\n",
       "      <td>None</td>\n",
       "      <td>LONDON, Reuter - Following are the buying and ...</td>\n",
       "      <td>None</td>\n",
       "    </tr>\n",
       "    <tr>\n",
       "      <th>139410</th>\n",
       "      <td>[]</td>\n",
       "      <td>None</td>\n",
       "      <td>General Dynamics Corp bid about $1 billion for...</td>\n",
       "      <td>USA:</td>\n",
       "    </tr>\n",
       "    <tr>\n",
       "      <th>191484</th>\n",
       "      <td>[E21, E212, ECAT, M11, MCAT]</td>\n",
       "      <td>None</td>\n",
       "      <td>:Delhi shares surge after budget clears parlia...</td>\n",
       "      <td>INDIA:</td>\n",
       "    </tr>\n",
       "    <tr>\n",
       "      <th>194718</th>\n",
       "      <td>[M11, MCAT]</td>\n",
       "      <td>None</td>\n",
       "      <td>INDIA: Delhi shares rise in hectic afternoon t...</td>\n",
       "      <td>INDIA:</td>\n",
       "    </tr>\n",
       "    <tr>\n",
       "      <th>248396</th>\n",
       "      <td>[G154, G155]</td>\n",
       "      <td>None</td>\n",
       "      <td>The future cost of state funding of pensions i...</td>\n",
       "      <td>FRANCE:</td>\n",
       "    </tr>\n",
       "    <tr>\n",
       "      <th>274094</th>\n",
       "      <td>[M11, MCAT]</td>\n",
       "      <td>None</td>\n",
       "      <td>Leading British stocks look set to continue th...</td>\n",
       "      <td>UK:</td>\n",
       "    </tr>\n",
       "  </tbody>\n",
       "</table>\n",
       "</div>"
      ],
      "text/plain": [
       "                               codes headline  \\\n",
       "54188                             []     None   \n",
       "139410                            []     None   \n",
       "191484  [E21, E212, ECAT, M11, MCAT]     None   \n",
       "194718                   [M11, MCAT]     None   \n",
       "248396                  [G154, G155]     None   \n",
       "274094                   [M11, MCAT]     None   \n",
       "\n",
       "                                                     text    title  \n",
       "54188   LONDON, Reuter - Following are the buying and ...     None  \n",
       "139410  General Dynamics Corp bid about $1 billion for...     USA:  \n",
       "191484  :Delhi shares surge after budget clears parlia...   INDIA:  \n",
       "194718  INDIA: Delhi shares rise in hectic afternoon t...   INDIA:  \n",
       "248396  The future cost of state funding of pensions i...  FRANCE:  \n",
       "274094  Leading British stocks look set to continue th...      UK:  "
      ]
     },
     "execution_count": 4,
     "metadata": {},
     "output_type": "execute_result"
    }
   ],
   "source": [
    "df[df['headline'].isnull()]"
   ]
  },
  {
   "cell_type": "code",
   "execution_count": 5,
   "metadata": {},
   "outputs": [
    {
     "data": {
      "text/html": [
       "<div>\n",
       "<style scoped>\n",
       "    .dataframe tbody tr th:only-of-type {\n",
       "        vertical-align: middle;\n",
       "    }\n",
       "\n",
       "    .dataframe tbody tr th {\n",
       "        vertical-align: top;\n",
       "    }\n",
       "\n",
       "    .dataframe thead th {\n",
       "        text-align: right;\n",
       "    }\n",
       "</style>\n",
       "<table border=\"1\" class=\"dataframe\">\n",
       "  <thead>\n",
       "    <tr style=\"text-align: right;\">\n",
       "      <th></th>\n",
       "      <th>codes</th>\n",
       "      <th>headline</th>\n",
       "      <th>text</th>\n",
       "      <th>title</th>\n",
       "    </tr>\n",
       "  </thead>\n",
       "  <tbody>\n",
       "    <tr>\n",
       "      <th>54188</th>\n",
       "      <td>[]</td>\n",
       "      <td>None</td>\n",
       "      <td>LONDON, Reuter - Following are the buying and ...</td>\n",
       "      <td>None</td>\n",
       "    </tr>\n",
       "  </tbody>\n",
       "</table>\n",
       "</div>"
      ],
      "text/plain": [
       "      codes headline                                               text title\n",
       "54188    []     None  LONDON, Reuter - Following are the buying and ...  None"
      ]
     },
     "execution_count": 5,
     "metadata": {},
     "output_type": "execute_result"
    }
   ],
   "source": [
    "df[df['title'].isnull()]"
   ]
  },
  {
   "cell_type": "code",
   "execution_count": 6,
   "metadata": {},
   "outputs": [],
   "source": [
    "df.headline.fillna(value=\" \", inplace=True)\n",
    "df.title.fillna(value=\" \", inplace=True)"
   ]
  },
  {
   "cell_type": "markdown",
   "metadata": {},
   "source": [
    "## What are we dealing with?\n",
    "Lengths of headlines"
   ]
  },
  {
   "cell_type": "code",
   "execution_count": 7,
   "metadata": {},
   "outputs": [
    {
     "data": {
      "text/plain": [
       "count    299773.000000\n",
       "mean         44.307166\n",
       "std           6.842181\n",
       "min           1.000000\n",
       "25%          40.000000\n",
       "50%          45.000000\n",
       "75%          50.000000\n",
       "max         146.000000\n",
       "Name: headline, dtype: float64"
      ]
     },
     "execution_count": 7,
     "metadata": {},
     "output_type": "execute_result"
    }
   ],
   "source": [
    "df.headline.apply(len).describe()"
   ]
  },
  {
   "cell_type": "markdown",
   "metadata": {},
   "source": [
    "Lengths of text fields. There seems to be a few light year long items."
   ]
  },
  {
   "cell_type": "code",
   "execution_count": 8,
   "metadata": {},
   "outputs": [
    {
     "data": {
      "text/plain": [
       "count    299773.000000\n",
       "mean       1443.724795\n",
       "std        1301.359047\n",
       "min           0.000000\n",
       "25%         577.000000\n",
       "50%        1080.000000\n",
       "75%        1948.000000\n",
       "max       51474.000000\n",
       "Name: text, dtype: float64"
      ]
     },
     "execution_count": 8,
     "metadata": {},
     "output_type": "execute_result"
    }
   ],
   "source": [
    "df.text.apply(len).describe()"
   ]
  },
  {
   "cell_type": "markdown",
   "metadata": {},
   "source": [
    "How many codes items have? Most have a handful but some can have 10x more."
   ]
  },
  {
   "cell_type": "code",
   "execution_count": 9,
   "metadata": {},
   "outputs": [
    {
     "name": "stdout",
     "output_type": "stream",
     "text": [
      "count    299773.000000\n",
      "mean          3.202697\n",
      "std           1.399520\n",
      "min           0.000000\n",
      "25%           2.000000\n",
      "50%           3.000000\n",
      "75%           4.000000\n",
      "max          16.000000\n",
      "Name: codes, dtype: float64\n"
     ]
    },
    {
     "data": {
      "text/plain": [
       "<matplotlib.axes._subplots.AxesSubplot at 0x7ffaf60b0898>"
      ]
     },
     "execution_count": 9,
     "metadata": {},
     "output_type": "execute_result"
    },
    {
     "data": {
      "image/png": "[encoded data removed]",
      "text/plain": [
       "<Figure size 432x288 with 1 Axes>"
      ]
     },
     "metadata": {
      "needs_background": "light"
     },
     "output_type": "display_data"
    }
   ],
   "source": [
    "print(df.codes.apply(len).describe())\n",
    "df.codes.apply(len).hist()"
   ]
  },
  {
   "cell_type": "markdown",
   "metadata": {},
   "source": [
    "How many different codes are in data?"
   ]
  },
  {
   "cell_type": "code",
   "execution_count": 10,
   "metadata": {},
   "outputs": [
    {
     "name": "stdout",
     "output_type": "stream",
     "text": [
      "103\n"
     ]
    }
   ],
   "source": [
    "codesList = df.codes.values\n",
    "codes = []\n",
    "for cs in codesList:\n",
    "    codes += cs\n",
    "print(len(set(codes)))"
   ]
  },
  {
   "cell_type": "markdown",
   "metadata": {},
   "source": [
    "How about in the text files that give labels for these codes? I have gathered these in one file, `topic_codes.txt`."
   ]
  },
  {
   "cell_type": "code",
   "execution_count": 11,
   "metadata": {},
   "outputs": [
    {
     "name": "stdout",
     "output_type": "stream",
     "text": [
      "True\n"
     ]
    },
    {
     "data": {
      "text/plain": [
       "126"
      ]
     },
     "execution_count": 11,
     "metadata": {},
     "output_type": "execute_result"
    }
   ],
   "source": [
    "topic_codes = []\n",
    "with open('train/topic_codes.txt', 'r') as f:\n",
    "    tc = f.readlines()\n",
    "    for x in tc:\n",
    "        c,l = x.split('\\t',1)\n",
    "        topic_codes.append(c.strip())\n",
    "\n",
    "# Check for duplicates\n",
    "print(len(topic_codes)==len(list(set(topic_codes))))\n",
    "len(topic_codes)"
   ]
  },
  {
   "cell_type": "markdown",
   "metadata": {},
   "source": [
    "This means that not all codes that appear in `topic_codes.txt` appear in the actual training data. What should we do about this?"
   ]
  },
  {
   "cell_type": "code",
   "execution_count": 12,
   "metadata": {},
   "outputs": [
    {
     "data": {
      "text/plain": [
       "126"
      ]
     },
     "execution_count": 12,
     "metadata": {},
     "output_type": "execute_result"
    }
   ],
   "source": [
    "len(set(codes+topic_codes))"
   ]
  },
  {
   "cell_type": "markdown",
   "metadata": {},
   "source": [
    "There is no unknown codes in training data. Good."
   ]
  },
  {
   "cell_type": "markdown",
   "metadata": {},
   "source": [
    "## Pytorch dataset"
   ]
  },
  {
   "cell_type": "code",
   "execution_count": 13,
   "metadata": {},
   "outputs": [
    {
     "name": "stdout",
     "output_type": "stream",
     "text": [
      "Vocabulary size: 94\n"
     ]
    }
   ],
   "source": [
    "# Vocabulary to play with\n",
    "def buildVocabulary():\n",
    "    vocabulary = set()\n",
    "    for idx,d in df.iterrows():\n",
    "        vocabulary = vocabulary.union(d['headline']).union(d['title']).union(d['text'])\n",
    "    return vocabulary\n",
    "\n",
    "vocabulary = buildVocabulary()\n",
    "char_to_idx = {ch:i for i,ch in enumerate(vocabulary)}\n",
    "idx_to_char = {i:ch for i,ch in enumerate(vocabulary)}\n",
    "print('Vocabulary size:', len(vocabulary))"
   ]
  },
  {
   "cell_type": "code",
   "execution_count": 20,
   "metadata": {},
   "outputs": [],
   "source": [
    "class ReutersDataset(Dataset):\n",
    "    def __init__(self, df):\n",
    "        self.df = df\n",
    "        \n",
    "    def __getitem__(self, index):\n",
    "        # For now, return simply the headline\n",
    "        # and corresponding codes. We have to\n",
    "        # think what we actually want to feed\n",
    "        # into our model.\n",
    "        data = df.iloc[index]\n",
    "        h,t,txt,cs = data.headline, data.title, data.text, data.codes\n",
    "        return self.newsToTensor(h,t), self.codesToTensor(cs)\n",
    "\n",
    "    def __len__(self):\n",
    "        return len(df)\n",
    "\n",
    "    def codesToTensor(self, codes):\n",
    "        indices = [topic_codes.index(c) for c in codes]\n",
    "        target = torch.zeros(len(topic_codes))\n",
    "        for i in indices:\n",
    "            target[i] = 1\n",
    "        return target\n",
    "    \n",
    "    def newsToTensor(self, headline, text):\n",
    "        # This is a placeholder.\n",
    "        hTensor = torch.tensor([self.oneHot(char_to_idx[c]) for c in headline])\n",
    "        tTensor = torch.tensor([self.oneHot(char_to_idx[c]) for c in text])\n",
    "        tTensor = tTensor if len(tTensor) < 200 else tTensor[:200]\n",
    "        return torch.cat((hTensor, tTensor))\n",
    "    \n",
    "    def oneHot(self, idx):\n",
    "        vec = np.zeros(len(char_to_idx))\n",
    "        vec[idx] = 1\n",
    "        return vec"
   ]
  },
  {
   "cell_type": "markdown",
   "metadata": {},
   "source": [
    "Most of our training examples are of different lengths, so we must pad examples such that all examples in a batch have the same length. We'll pad to the length of the longest example in a batch. I don't know if `pytorch` can do this automatically, so I'll give a modified `collate_fn` for our data loaders."
   ]
  },
  {
   "cell_type": "code",
   "execution_count": 21,
   "metadata": {},
   "outputs": [],
   "source": [
    "# This assumes that the tensor is rank one\n",
    "# and that it's shorter than 'length'.\n",
    "def pad_to_length(tensor, length):\n",
    "    return F.pad(tensor, (0, 0, 0, length-tensor.shape[0]), 'constant', 0)\n",
    "\n",
    "def pad_collate(batch):\n",
    "    max_len = max(map(lambda example: len(example[0]), batch))\n",
    "    xs = [tup[0] for tup in batch]\n",
    "    xs = torch.stack(list(map(lambda x: pad_to_length(x,max_len), xs)))\n",
    "    ys = torch.stack([example[1] for example in batch])\n",
    "    return xs, ys"
   ]
  },
  {
   "cell_type": "markdown",
   "metadata": {},
   "source": [
    "Instantiate the dataset and get data loaders."
   ]
  },
  {
   "cell_type": "code",
   "execution_count": 24,
   "metadata": {},
   "outputs": [],
   "source": [
    "train_set = ReutersDataset(df.sample(frac=0.9))\n",
    "test_set = ReutersDataset(df.drop(train_set.df.index))\n",
    "\n",
    "batch_size = 8\n",
    "train_loader = torch.utils.data.DataLoader(dataset=train_set, batch_size=batch_size, collate_fn=pad_collate, shuffle=True)\n",
    "test_loader = torch.utils.data.DataLoader(dataset=test_set, batch_size=batch_size, collate_fn=pad_collate, shuffle=False)"
   ]
  },
  {
   "cell_type": "markdown",
   "metadata": {},
   "source": [
    "## Model (placeholder)"
   ]
  },
  {
   "cell_type": "markdown",
   "metadata": {},
   "source": [
    "Choose a device"
   ]
  },
  {
   "cell_type": "code",
   "execution_count": 25,
   "metadata": {},
   "outputs": [
    {
     "name": "stdout",
     "output_type": "stream",
     "text": [
      "Using GPU!\n"
     ]
    }
   ],
   "source": [
    "if torch.cuda.is_available():\n",
    "    print('Using GPU!')\n",
    "    device = torch.device('cuda')\n",
    "else:\n",
    "    print('Using CPU')\n",
    "    device = torch.device('cpu')"
   ]
  },
  {
   "cell_type": "markdown",
   "metadata": {},
   "source": [
    "Placeholder model: character level GRU"
   ]
  },
  {
   "cell_type": "code",
   "execution_count": 27,
   "metadata": {},
   "outputs": [],
   "source": [
    "hidden_state_dim = 256\n",
    "output_dim = len(topic_codes)\n",
    "vocabulary_dim = len(vocabulary)\n",
    "num_layers = 2\n",
    "\n",
    "class Model(nn.Module):\n",
    "    def __init__(self):\n",
    "        super(Model, self).__init__()\n",
    "        self.gru = nn.GRU(vocabulary_dim, hidden_state_dim, num_layers=num_layers,\n",
    "                          batch_first=True, dropout=0.5)\n",
    "        self.fc1 = nn.Linear(2*hidden_state_dim, 256)\n",
    "        self.fc2 = nn.Linear(256, output_dim)\n",
    "    def forward(self, X):\n",
    "        X,h = self.gru(X)\n",
    "        h = torch.cat((h[-1], h[-2]), dim=1)\n",
    "        return self.fc2(F.relu(self.fc1(h)))\n",
    "\n",
    "model = Model().to(device)"
   ]
  },
  {
   "cell_type": "markdown",
   "metadata": {},
   "source": [
    "## Training\n",
    "Copy-pasted functions for training and validating"
   ]
  },
  {
   "cell_type": "code",
   "execution_count": 28,
   "metadata": {},
   "outputs": [],
   "source": [
    "def train(epoch, train_vector, logs_per_epoch=7):\n",
    "    # Set model to training mode\n",
    "    model.train()\n",
    "    \n",
    "    train_loss, correct = 0, 0\n",
    "    num_batches = len(train_loader)\n",
    "    start = time.time()\n",
    "    # Loop over each batch from the training set\n",
    "    for batch_idx, (X, y) in enumerate(train_loader):\n",
    "        X = X.to(device).float()\n",
    "        y = y.to(device)\n",
    "        # Zero gradient buffers\n",
    "        optimizer.zero_grad() \n",
    "        # Pass data through the network\n",
    "        output = model(X)\n",
    "        # Calculate loss\n",
    "        loss = criterion(output, y)\n",
    "        train_loss += loss.item()\n",
    "        # Backpropagate\n",
    "        loss.backward()\n",
    "        # Update weights\n",
    "        optimizer.step()\n",
    "        \n",
    "        if batch_idx % (num_batches//logs_per_epoch) == 0 and batch_idx > 0:\n",
    "            now = time.time()\n",
    "            inputs_per_sec = ((batch_idx+1)*batch_size)/(now-start)\n",
    "            eta_min = (epochs*num_batches-(epoch-1)*num_batches-(batch_idx+1))*batch_size/inputs_per_sec/60\n",
    "            print('Epoch: {} [{}/{} ({:.0f}%)]\\tLoss: {:.6f}\\tInputs/s: {:.1f}\\tRemaining: {:.1f} min'.format(\n",
    "                epoch, batch_idx * len(X), len(train_loader.dataset),\n",
    "                100. * batch_idx / len(train_loader), loss.data.item(), inputs_per_sec, eta_min))\n",
    "\n",
    "    train_loss /= len(train_loader)\n",
    "    train_vector.append(train_loss)\n",
    "\n",
    "def validate(loss_vector):\n",
    "    model.eval()\n",
    "    val_loss = 0\n",
    "    print('\\nValidating...')\n",
    "    for (X, y) in test_loader:\n",
    "        X = X.to(device).float()\n",
    "        y = y.to(device)\n",
    "        output = model(X)\n",
    "        val_loss += criterion(output, y).data.item()\n",
    "\n",
    "    val_loss /= len(test_loader)\n",
    "    loss_vector.append(val_loss)\n",
    "    \n",
    "    print('Validation set: Average loss: {:.4f}\\n'.format(val_loss))"
   ]
  },
  {
   "cell_type": "markdown",
   "metadata": {},
   "source": [
    "Actual training"
   ]
  },
  {
   "cell_type": "code",
   "execution_count": 29,
   "metadata": {},
   "outputs": [
    {
     "name": "stdout",
     "output_type": "stream",
     "text": [
      "\n",
      "Validating...\n",
      "Validation set: Average loss: 0.6935\n",
      "\n",
      "Epoch: 1 [29976/299773 (10%)]\tLoss: 0.058330\tInputs/s: 354.6\tRemaining: 69.0 min\n",
      "Epoch: 1 [59952/299773 (20%)]\tLoss: 0.071115\tInputs/s: 354.1\tRemaining: 67.7 min\n",
      "Epoch: 1 [89928/299773 (30%)]\tLoss: 0.059802\tInputs/s: 353.8\tRemaining: 66.4 min\n",
      "Epoch: 1 [119904/299773 (40%)]\tLoss: 0.040843\tInputs/s: 353.5\tRemaining: 65.0 min\n",
      "Epoch: 1 [149880/299773 (50%)]\tLoss: 0.047085\tInputs/s: 353.2\tRemaining: 63.7 min\n",
      "Epoch: 1 [179856/299773 (60%)]\tLoss: 0.029241\tInputs/s: 352.9\tRemaining: 62.3 min\n",
      "Epoch: 1 [209832/299773 (70%)]\tLoss: 0.051123\tInputs/s: 352.8\tRemaining: 60.9 min\n",
      "Epoch: 1 [239808/299773 (80%)]\tLoss: 0.034047\tInputs/s: 352.7\tRemaining: 59.5 min\n",
      "Epoch: 1 [269784/299773 (90%)]\tLoss: 0.086760\tInputs/s: 352.6\tRemaining: 58.1 min\n",
      "Epoch: 1 [299760/299773 (100%)]\tLoss: 0.034429\tInputs/s: 352.5\tRemaining: 56.7 min\n",
      "\n",
      "Validating...\n",
      "Validation set: Average loss: 0.0348\n",
      "\n",
      "Epoch: 2 [29976/299773 (10%)]\tLoss: 0.054502\tInputs/s: 366.2\tRemaining: 53.2 min\n",
      "Epoch: 2 [59952/299773 (20%)]\tLoss: 0.022328\tInputs/s: 369.8\tRemaining: 51.3 min\n",
      "Epoch: 2 [89928/299773 (30%)]\tLoss: 0.028793\tInputs/s: 371.1\tRemaining: 49.8 min\n",
      "Epoch: 2 [119904/299773 (40%)]\tLoss: 0.021796\tInputs/s: 371.5\tRemaining: 48.4 min\n",
      "Epoch: 2 [149880/299773 (50%)]\tLoss: 0.044880\tInputs/s: 371.7\tRemaining: 47.0 min\n",
      "Epoch: 2 [179856/299773 (60%)]\tLoss: 0.018004\tInputs/s: 372.1\tRemaining: 45.7 min\n",
      "Epoch: 2 [209832/299773 (70%)]\tLoss: 0.036287\tInputs/s: 372.3\tRemaining: 44.3 min\n",
      "Epoch: 2 [239808/299773 (80%)]\tLoss: 0.018608\tInputs/s: 372.4\tRemaining: 42.9 min\n",
      "Epoch: 2 [269784/299773 (90%)]\tLoss: 0.027764\tInputs/s: 372.5\tRemaining: 41.6 min\n",
      "Epoch: 2 [299760/299773 (100%)]\tLoss: 0.027568\tInputs/s: 372.6\tRemaining: 40.2 min\n",
      "\n",
      "Validating...\n",
      "Validation set: Average loss: 0.0289\n",
      "\n",
      "Epoch: 3 [29976/299773 (10%)]\tLoss: 0.018555\tInputs/s: 373.1\tRemaining: 38.8 min\n",
      "Epoch: 3 [59952/299773 (20%)]\tLoss: 0.038318\tInputs/s: 373.1\tRemaining: 37.5 min\n",
      "Epoch: 3 [89928/299773 (30%)]\tLoss: 0.028496\tInputs/s: 372.9\tRemaining: 36.2 min\n",
      "Epoch: 3 [119904/299773 (40%)]\tLoss: 0.028247\tInputs/s: 372.7\tRemaining: 34.9 min\n",
      "Epoch: 3 [149880/299773 (50%)]\tLoss: 0.048429\tInputs/s: 372.6\tRemaining: 33.5 min\n",
      "Epoch: 3 [179856/299773 (60%)]\tLoss: 0.026316\tInputs/s: 372.7\tRemaining: 32.2 min\n",
      "Epoch: 3 [209832/299773 (70%)]\tLoss: 0.026835\tInputs/s: 372.8\tRemaining: 30.8 min\n",
      "Epoch: 3 [239808/299773 (80%)]\tLoss: 0.037131\tInputs/s: 372.8\tRemaining: 29.5 min\n",
      "Epoch: 3 [269784/299773 (90%)]\tLoss: 0.025306\tInputs/s: 368.4\tRemaining: 28.5 min\n",
      "Epoch: 3 [299760/299773 (100%)]\tLoss: 0.013785\tInputs/s: 364.0\tRemaining: 27.5 min\n",
      "\n",
      "Validating...\n",
      "Validation set: Average loss: 0.0279\n",
      "\n",
      "Epoch: 4 [29976/299773 (10%)]\tLoss: 0.032151\tInputs/s: 358.7\tRemaining: 26.5 min\n",
      "Epoch: 4 [59952/299773 (20%)]\tLoss: 0.039911\tInputs/s: 356.2\tRemaining: 25.2 min\n",
      "Epoch: 4 [89928/299773 (30%)]\tLoss: 0.041981\tInputs/s: 355.2\tRemaining: 23.9 min\n",
      "Epoch: 4 [119904/299773 (40%)]\tLoss: 0.037033\tInputs/s: 354.7\tRemaining: 22.5 min\n",
      "Epoch: 4 [149880/299773 (50%)]\tLoss: 0.036090\tInputs/s: 354.4\tRemaining: 21.1 min\n",
      "Epoch: 4 [179856/299773 (60%)]\tLoss: 0.020202\tInputs/s: 354.0\tRemaining: 19.8 min\n",
      "Epoch: 4 [209832/299773 (70%)]\tLoss: 0.010003\tInputs/s: 353.6\tRemaining: 18.4 min\n",
      "Epoch: 4 [239808/299773 (80%)]\tLoss: 0.026245\tInputs/s: 353.3\tRemaining: 17.0 min\n",
      "Epoch: 4 [269784/299773 (90%)]\tLoss: 0.044246\tInputs/s: 353.4\tRemaining: 15.5 min\n",
      "Epoch: 4 [299760/299773 (100%)]\tLoss: 0.041969\tInputs/s: 353.2\tRemaining: 14.1 min\n",
      "\n",
      "Validating...\n",
      "Validation set: Average loss: 0.0268\n",
      "\n",
      "Epoch: 5 [29976/299773 (10%)]\tLoss: 0.028323\tInputs/s: 350.7\tRemaining: 12.8 min\n",
      "Epoch: 5 [59952/299773 (20%)]\tLoss: 0.017985\tInputs/s: 350.9\tRemaining: 11.4 min\n",
      "Epoch: 5 [89928/299773 (30%)]\tLoss: 0.032362\tInputs/s: 350.9\tRemaining: 10.0 min\n",
      "Epoch: 5 [119904/299773 (40%)]\tLoss: 0.023494\tInputs/s: 351.1\tRemaining: 8.5 min\n",
      "Epoch: 5 [149880/299773 (50%)]\tLoss: 0.031604\tInputs/s: 351.2\tRemaining: 7.1 min\n",
      "Epoch: 5 [179856/299773 (60%)]\tLoss: 0.034433\tInputs/s: 351.2\tRemaining: 5.7 min\n",
      "Epoch: 5 [209832/299773 (70%)]\tLoss: 0.040867\tInputs/s: 351.2\tRemaining: 4.3 min\n",
      "Epoch: 5 [239808/299773 (80%)]\tLoss: 0.010861\tInputs/s: 351.3\tRemaining: 2.8 min\n",
      "Epoch: 5 [269784/299773 (90%)]\tLoss: 0.040118\tInputs/s: 351.2\tRemaining: 1.4 min\n",
      "Epoch: 5 [299760/299773 (100%)]\tLoss: 0.021385\tInputs/s: 351.3\tRemaining: 0.0 min\n",
      "\n",
      "Validating...\n",
      "Validation set: Average loss: 0.0259\n",
      "\n"
     ]
    }
   ],
   "source": [
    "criterion = nn.BCEWithLogitsLoss()\n",
    "parameters = model.parameters()\n",
    "optimizer = optim.Adam(parameters)\n",
    "\n",
    "epochs = 5\n",
    "losst, lossv = [], []\n",
    "validate([])\n",
    "for epoch in range(1, epochs + 1):\n",
    "    train(epoch, losst, logs_per_epoch = 10)\n",
    "    validate(lossv)"
   ]
  },
  {
   "cell_type": "code",
   "execution_count": 30,
   "metadata": {},
   "outputs": [
    {
     "data": {
      "text/plain": [
       "Text(0.5, 1.0, 'loss vs epoch')"
      ]
     },
     "execution_count": 30,
     "metadata": {},
     "output_type": "execute_result"
    },
    {
     "data": {
      "image/png": "[encoded data removed]",
      "text/plain": [
       "<Figure size 360x216 with 1 Axes>"
      ]
     },
     "metadata": {
      "needs_background": "light"
     },
     "output_type": "display_data"
    }
   ],
   "source": [
    "plt.figure(figsize=(5,3))\n",
    "plt.plot(np.arange(1,len(losst)+1), losst, label=\"training\")\n",
    "plt.plot(np.arange(1,len(lossv)+1), lossv, label=\"validation\")\n",
    "plt.legend(bbox_to_anchor=(1.05, 1), loc=2, borderaxespad=0.)\n",
    "plt.title('loss vs epoch')"
   ]
  },
  {
   "cell_type": "markdown",
   "metadata": {},
   "source": [
    "## Model evaluation\n",
    "I'll implement for starters the \"precision at k\" (P@k) evaluation metric. It is defined by  \n",
    "$P@k = \\frac{1}{k} \\sum_{l=1}^k y_{rank(l)}$,  \n",
    "where $y\\in (0,1)^L$ is the true label binary vector and $rank(l)$ is the index of the $l$-th highest label predicted by the system. This metric is averaged over the test set."
   ]
  },
  {
   "cell_type": "code",
   "execution_count": 42,
   "metadata": {},
   "outputs": [],
   "source": [
    "def pAtK(k):\n",
    "    p_at_k = 0\n",
    "    for (X, y) in test_loader:\n",
    "        X = X.to(device).float()\n",
    "        y = y.cpu()\n",
    "        output = model(X).cpu()\n",
    "        # Iterate over batch examples\n",
    "        for batch_idx in range(len(output)):\n",
    "            k_highest_idx = torch.topk(output[batch_idx], k)[1].numpy()\n",
    "            # Iterate over predicted labels\n",
    "            for pred_idx in k_highest_idx:\n",
    "                p_at_k += y[batch_idx,pred_idx].item()\n",
    "    p_at_k = p_at_k/(len(test_loader)*batch_size*k)\n",
    "    return p_at_k"
   ]
  },
  {
   "cell_type": "code",
   "execution_count": 43,
   "metadata": {},
   "outputs": [
    {
     "name": "stdout",
     "output_type": "stream",
     "text": [
      "P@1: 0.9472339346712212 %\n",
      "P@3: 0.7859813104896101 %\n",
      "P@5: 0.5432202711357814 %\n"
     ]
    }
   ],
   "source": [
    "print(\"P@1:\", pAtK(1), \"%\")\n",
    "print(\"P@3:\", pAtK(3), \"%\")\n",
    "print(\"P@5:\", pAtK(5), \"%\")"
   ]
  },
  {
   "cell_type": "markdown",
   "metadata": {},
   "source": [
    "## Save your model\n",
    "\n",
    "It might be useful to save your model if you want to continue your work later, or use it for inference later."
   ]
  },
  {
   "cell_type": "code",
   "execution_count": null,
   "metadata": {},
   "outputs": [],
   "source": [
    "torch.save(model.state_dict(), 'model.pkl')"
   ]
  },
  {
   "cell_type": "markdown",
   "metadata": {},
   "source": [
    "The model file should now be visible in the \"Home\" screen of the jupyter notebooks interface.  There you should be able to select it and press \"download\".\n",
    "\n",
    "## Download test set\n",
    "\n",
    "The testset will be made available during the last week before the deadline and can be downloaded in the same way as the training set.\n",
    "\n",
    "## Predict for test set\n",
    "\n",
    "You will be asked to return your predictions a separate test set.  These should be returned as a matrix with one row for each test article.  Each row contains a binary prediction for each label, 1 if it's present in the image, and 0 if not. The order of the labels is the order of the label (topic) codes.\n",
    "\n",
    "An example row could like like this if your system predicts the presense of the second and fourth topic:\n",
    "\n",
    "    0 1 0 1 0 0 0 0 0 0 0 0 0 0 ...\n",
    "    \n",
    "If you have the matrix prepared in `y` you can use the following function to save it to a text file."
   ]
  },
  {
   "cell_type": "code",
   "execution_count": null,
   "metadata": {},
   "outputs": [],
   "source": [
    "np.savetxt('results.txt', y, fmt='%d')"
   ]
  }
 ],
 "metadata": {
  "kernelspec": {
   "display_name": "Python 3",
   "language": "python",
   "name": "python3"
  },
  "language_info": {
   "codemirror_mode": {
    "name": "ipython",
    "version": 3
   },
   "file_extension": ".py",
   "mimetype": "text/x-python",
   "name": "python",
   "nbconvert_exporter": "python",
   "pygments_lexer": "ipython3",
   "version": "3.7.1"
  }
 },
 "nbformat": 4,
 "nbformat_minor": 2
}
