{
 "cells": [
  {
   "cell_type": "markdown",
   "metadata": {},
   "source": [
    "# DATA20001 Deep Learning - Group Project\n",
    "## Text project\n",
    "\n",
    "**Due Thursday, December 13, before 23:59.**\n",
    "\n",
    "The task is to learn to assign the correct labels to news articles.  The corpus contains ~850K articles from Reuters.  The test set is about 10% of the articles. The data is unextracted in XML files.\n",
    "\n",
    "We're only giving you the code for downloading the data, and how to save the final model. The rest you'll have to do yourselves.\n",
    "\n",
    "Some comments and hints particular to the project:\n",
    "\n",
    "- One document may belong to many classes in this problem, i.e., it's a multi-label classification problem. In fact there are documents that don't belong to any class, and you should also be able to handle these correctly. Pay careful attention to how you design the outputs of the network (e.g., what activation to use) and what loss function should be used.\n",
    "- You may use word-embeddings to get better results. For example, you were already using a smaller version of the GloVE  embeddings in exercise 4. Do note that these embeddings take a lot of memory. \n",
    "- In the exercises we used e.g., `torchvision.datasets.MNIST` to handle the loading of the data in suitable batches. Here, you need to handle the dataloading yourself.  The easiest way is probably to create a custom `Dataset`. [See for example here for a tutorial](https://github.com/utkuozbulak/pytorch-custom-dataset-examples)."
   ]
  },
  {
   "cell_type": "markdown",
   "metadata": {},
   "source": [
    "## Download the data"
   ]
  },
  {
   "cell_type": "code",
   "execution_count": 96,
   "metadata": {},
   "outputs": [
    {
     "name": "stdout",
     "output_type": "stream",
     "text": [
      "Downloading https://www.cs.helsinki.fi/u/jgpyykko/reuters.zip to train/reuters.zip\n"
     ]
    }
   ],
   "source": [
    "import os\n",
    "import torch\n",
    "from torchvision.datasets.utils import download_url\n",
    "import zipfile\n",
    "\n",
    "train_path = 'train/'\n",
    "\n",
    "dl_file='reuters.zip'\n",
    "dl_url='https://www.cs.helsinki.fi/u/jgpyykko/'\n",
    "zip_path = os.path.join(train_path, dl_file)\n",
    "if not os.path.isfile(zip_path):\n",
    "    download_url(dl_url + dl_file, root=train_path, filename=dl_file, md5=None)\n",
    "\n",
    "with zipfile.ZipFile(zip_path) as zip_f:\n",
    "    zip_f.extractall(train_path)\n",
    "    #os.unlink(zip_path)"
   ]
  },
  {
   "cell_type": "markdown",
   "metadata": {},
   "source": [
    "The above command downloads and extracts the data files into the `train` subdirectory.\n",
    "\n",
    "The files can be found in `train/`, and are named as `19970405.zip`, etc. You will have to manage the content of these zips to get the data. There is a readme which has links to further descriptions on the data.\n",
    "\n",
    "The class labels, or topics, can be found in the readme file called `train/codes.zip`.  The zip contains a file called \"topic_codes.txt\".  This file contains the special codes for the topics (about 130 of them), and the explanation - what each code means.  \n",
    "\n",
    "The XML document files contain the article's headline, the main body text, and the list of topic labels assigned to each article.  You will have to extract the topics of each article from the XML.  For example: \n",
    "&lt;code code=\"C18\"&gt; refers to the topic \"OWNERSHIP CHANGES\" (like a corporate buyout).\n",
    "\n",
    "You should pre-process the XML to extract the words from the article: the &lt;headline&gt; element and the &lt;text&gt;.  You should not need any other parts of the article."
   ]
  },
  {
   "cell_type": "markdown",
   "metadata": {},
   "source": [
    "## Imports"
   ]
  },
  {
   "cell_type": "code",
   "execution_count": 1,
   "metadata": {},
   "outputs": [],
   "source": [
    "import torch\n",
    "import torch.optim as optim\n",
    "import torch.nn as nn\n",
    "import torch.nn.functional as F\n",
    "from torch.utils.data.dataset import Dataset\n",
    "import numpy as np\n",
    "import xml.etree.ElementTree as ET\n",
    "import pandas as pd\n",
    "import time\n",
    "import matplotlib.pyplot as plt"
   ]
  },
  {
   "cell_type": "markdown",
   "metadata": {},
   "source": [
    "## Data preprocessing\n",
    "This processes the zips in `train/` without additional extractions to disk and produces a pandas dataframe with results. Finally this dataframe is written to disk in a compressed form for subsequent use."
   ]
  },
  {
   "cell_type": "code",
   "execution_count": 37,
   "metadata": {},
   "outputs": [],
   "source": [
    "def getHeadline(root):\n",
    "    return root.find('headline').text\n",
    "\n",
    "def getTitle(root):\n",
    "    return root.find('title').text\n",
    "\n",
    "def getCodes(root):\n",
    "    metaElem = root.find('metadata')\n",
    "    codesElem = metaElem.findall('codes')\n",
    "    codes = []\n",
    "    for c in codesElem:\n",
    "        # Get only topic codes\n",
    "        if c.attrib['class'] == 'bip:topics:1.0':\n",
    "            for code in c:\n",
    "                codes.append(code.attrib['code'])\n",
    "    return codes\n",
    "\n",
    "def getText(root):\n",
    "    ps = root.find('text').findall('p')\n",
    "    text = []\n",
    "    for p in ps:\n",
    "        text.append(p.text)\n",
    "    return '\\n'.join(text)\n",
    "\n",
    "def parseXML(file):\n",
    "    root = ET.parse(file).getroot()\n",
    "    return getHeadline(root), getTitle(root), getText(root), getCodes(root)\n",
    "\n",
    "def parseZip(file):\n",
    "    zf = zipfile.ZipFile(file, 'r')\n",
    "    for xml in zf.namelist():\n",
    "        h,t,txt,cs = parseXML(zf.open(xml))\n",
    "        headlines.append(h)\n",
    "        titles.append(t)\n",
    "        texts.append(txt)\n",
    "        codes.append(cs)"
   ]
  },
  {
   "cell_type": "code",
   "execution_count": 97,
   "metadata": {},
   "outputs": [
    {
     "name": "stdout",
     "output_type": "stream",
     "text": [
      "Processing data in train/REUTERS_CORPUS_2/\n",
      "...............................................................................................................................\n",
      "Compressing dataframe to train/train.json.xz\n"
     ]
    },
    {
     "data": {
      "text/html": [
       "<div>\n",
       "<style scoped>\n",
       "    .dataframe tbody tr th:only-of-type {\n",
       "        vertical-align: middle;\n",
       "    }\n",
       "\n",
       "    .dataframe tbody tr th {\n",
       "        vertical-align: top;\n",
       "    }\n",
       "\n",
       "    .dataframe thead th {\n",
       "        text-align: right;\n",
       "    }\n",
       "</style>\n",
       "<table border=\"1\" class=\"dataframe\">\n",
       "  <thead>\n",
       "    <tr style=\"text-align: right;\">\n",
       "      <th></th>\n",
       "      <th>headline</th>\n",
       "      <th>title</th>\n",
       "      <th>text</th>\n",
       "      <th>codes</th>\n",
       "    </tr>\n",
       "  </thead>\n",
       "  <tbody>\n",
       "    <tr>\n",
       "      <th>0</th>\n",
       "      <td>Tokyo stocks likely to rise after Dow rebound.</td>\n",
       "      <td>JAPAN: Tokyo stocks likely to rise after Dow r...</td>\n",
       "      <td>Tokyo stocks are likely to rise in Tuesday's s...</td>\n",
       "      <td>[M11, MCAT]</td>\n",
       "    </tr>\n",
       "    <tr>\n",
       "      <th>1</th>\n",
       "      <td>OFFICIAL JOURNAL CONTENTS - OJ C 111 OF APRIL ...</td>\n",
       "      <td>EU:  OFFICIAL JOURNAL CONTENTS - OJ C 111 OF A...</td>\n",
       "      <td>*\\nCommon position (EC) No 11/97 of 20 Decembe...</td>\n",
       "      <td>[G15, GCAT]</td>\n",
       "    </tr>\n",
       "    <tr>\n",
       "      <th>2</th>\n",
       "      <td>OFFICIAL JOURNAL CONTENTS - OJ C 113 OF APRIL ...</td>\n",
       "      <td>EU:  OFFICIAL JOURNAL CONTENTS - OJ C 113 OF A...</td>\n",
       "      <td>*\\nEcu (97/C 113/01)\\nProposal for a Council D...</td>\n",
       "      <td>[G15, GCAT]</td>\n",
       "    </tr>\n",
       "    <tr>\n",
       "      <th>3</th>\n",
       "      <td>OFFICIAL JOURNAL CONTENTS - OJ C 114 OF APRIL ...</td>\n",
       "      <td>EU:  OFFICIAL JOURNAL CONTENTS - OJ C 114 OF A...</td>\n",
       "      <td>*\\n(Note - contents are displayed in reverse o...</td>\n",
       "      <td>[G15, GCAT]</td>\n",
       "    </tr>\n",
       "    <tr>\n",
       "      <th>4</th>\n",
       "      <td>OFFICIAL JOURNAL CONTENTS - OJ L 97 OF APRIL 1...</td>\n",
       "      <td>EU:  OFFICIAL JOURNAL CONTENTS - OJ L 97 OF AP...</td>\n",
       "      <td>*\\n(Note - contents are displayed in reverse o...</td>\n",
       "      <td>[G15, GCAT]</td>\n",
       "    </tr>\n",
       "  </tbody>\n",
       "</table>\n",
       "</div>"
      ],
      "text/plain": [
       "                                            headline  \\\n",
       "0     Tokyo stocks likely to rise after Dow rebound.   \n",
       "1  OFFICIAL JOURNAL CONTENTS - OJ C 111 OF APRIL ...   \n",
       "2  OFFICIAL JOURNAL CONTENTS - OJ C 113 OF APRIL ...   \n",
       "3  OFFICIAL JOURNAL CONTENTS - OJ C 114 OF APRIL ...   \n",
       "4  OFFICIAL JOURNAL CONTENTS - OJ L 97 OF APRIL 1...   \n",
       "\n",
       "                                               title  \\\n",
       "0  JAPAN: Tokyo stocks likely to rise after Dow r...   \n",
       "1  EU:  OFFICIAL JOURNAL CONTENTS - OJ C 111 OF A...   \n",
       "2  EU:  OFFICIAL JOURNAL CONTENTS - OJ C 113 OF A...   \n",
       "3  EU:  OFFICIAL JOURNAL CONTENTS - OJ C 114 OF A...   \n",
       "4  EU:  OFFICIAL JOURNAL CONTENTS - OJ L 97 OF AP...   \n",
       "\n",
       "                                                text        codes  \n",
       "0  Tokyo stocks are likely to rise in Tuesday's s...  [M11, MCAT]  \n",
       "1  *\\nCommon position (EC) No 11/97 of 20 Decembe...  [G15, GCAT]  \n",
       "2  *\\nEcu (97/C 113/01)\\nProposal for a Council D...  [G15, GCAT]  \n",
       "3  *\\n(Note - contents are displayed in reverse o...  [G15, GCAT]  \n",
       "4  *\\n(Note - contents are displayed in reverse o...  [G15, GCAT]  "
      ]
     },
     "execution_count": 97,
     "metadata": {},
     "output_type": "execute_result"
    }
   ],
   "source": [
    "data_path = 'train/REUTERS_CORPUS_2/'\n",
    "headlines, titles, texts, codes = [], [], [], []\n",
    "print('Processing data in', data_path)\n",
    "for f in os.listdir(data_path):\n",
    "    if f.startswith(\"1997\") and f.endswith(\".zip\"):\n",
    "        print('.', end='')\n",
    "        parseZip(data_path+f)\n",
    "\n",
    "df = pd.DataFrame({'headline': headlines, 'title': titles, 'text': texts, 'codes': codes})\n",
    "print('\\nCompressing dataframe to train/train.json.xz')\n",
    "df.to_json('train/train.json.xz', orient='records', compression='xz')\n",
    "df.head()"
   ]
  },
  {
   "cell_type": "markdown",
   "metadata": {},
   "source": [
    "## Load a preprocessed dataframe"
   ]
  },
  {
   "cell_type": "code",
   "execution_count": 2,
   "metadata": {},
   "outputs": [
    {
     "data": {
      "text/html": [
       "<div>\n",
       "<style scoped>\n",
       "    .dataframe tbody tr th:only-of-type {\n",
       "        vertical-align: middle;\n",
       "    }\n",
       "\n",
       "    .dataframe tbody tr th {\n",
       "        vertical-align: top;\n",
       "    }\n",
       "\n",
       "    .dataframe thead th {\n",
       "        text-align: right;\n",
       "    }\n",
       "</style>\n",
       "<table border=\"1\" class=\"dataframe\">\n",
       "  <thead>\n",
       "    <tr style=\"text-align: right;\">\n",
       "      <th></th>\n",
       "      <th>codes</th>\n",
       "      <th>headline</th>\n",
       "      <th>text</th>\n",
       "      <th>title</th>\n",
       "    </tr>\n",
       "  </thead>\n",
       "  <tbody>\n",
       "    <tr>\n",
       "      <th>0</th>\n",
       "      <td>[M11, MCAT]</td>\n",
       "      <td>Tokyo stocks likely to rise after Dow rebound.</td>\n",
       "      <td>Tokyo stocks are likely to rise in Tuesday's s...</td>\n",
       "      <td>JAPAN: Tokyo stocks likely to rise after Dow r...</td>\n",
       "    </tr>\n",
       "    <tr>\n",
       "      <th>1</th>\n",
       "      <td>[G15, GCAT]</td>\n",
       "      <td>OFFICIAL JOURNAL CONTENTS - OJ C 111 OF APRIL ...</td>\n",
       "      <td>*\\nCommon position (EC) No 11/97 of 20 Decembe...</td>\n",
       "      <td>EU:  OFFICIAL JOURNAL CONTENTS - OJ C 111 OF A...</td>\n",
       "    </tr>\n",
       "    <tr>\n",
       "      <th>2</th>\n",
       "      <td>[G15, GCAT]</td>\n",
       "      <td>OFFICIAL JOURNAL CONTENTS - OJ C 113 OF APRIL ...</td>\n",
       "      <td>*\\nEcu (97/C 113/01)\\nProposal for a Council D...</td>\n",
       "      <td>EU:  OFFICIAL JOURNAL CONTENTS - OJ C 113 OF A...</td>\n",
       "    </tr>\n",
       "    <tr>\n",
       "      <th>3</th>\n",
       "      <td>[G15, GCAT]</td>\n",
       "      <td>OFFICIAL JOURNAL CONTENTS - OJ C 114 OF APRIL ...</td>\n",
       "      <td>*\\n(Note - contents are displayed in reverse o...</td>\n",
       "      <td>EU:  OFFICIAL JOURNAL CONTENTS - OJ C 114 OF A...</td>\n",
       "    </tr>\n",
       "    <tr>\n",
       "      <th>4</th>\n",
       "      <td>[G15, GCAT]</td>\n",
       "      <td>OFFICIAL JOURNAL CONTENTS - OJ L 97 OF APRIL 1...</td>\n",
       "      <td>*\\n(Note - contents are displayed in reverse o...</td>\n",
       "      <td>EU:  OFFICIAL JOURNAL CONTENTS - OJ L 97 OF AP...</td>\n",
       "    </tr>\n",
       "  </tbody>\n",
       "</table>\n",
       "</div>"
      ],
      "text/plain": [
       "         codes                                           headline  \\\n",
       "0  [M11, MCAT]     Tokyo stocks likely to rise after Dow rebound.   \n",
       "1  [G15, GCAT]  OFFICIAL JOURNAL CONTENTS - OJ C 111 OF APRIL ...   \n",
       "2  [G15, GCAT]  OFFICIAL JOURNAL CONTENTS - OJ C 113 OF APRIL ...   \n",
       "3  [G15, GCAT]  OFFICIAL JOURNAL CONTENTS - OJ C 114 OF APRIL ...   \n",
       "4  [G15, GCAT]  OFFICIAL JOURNAL CONTENTS - OJ L 97 OF APRIL 1...   \n",
       "\n",
       "                                                text  \\\n",
       "0  Tokyo stocks are likely to rise in Tuesday's s...   \n",
       "1  *\\nCommon position (EC) No 11/97 of 20 Decembe...   \n",
       "2  *\\nEcu (97/C 113/01)\\nProposal for a Council D...   \n",
       "3  *\\n(Note - contents are displayed in reverse o...   \n",
       "4  *\\n(Note - contents are displayed in reverse o...   \n",
       "\n",
       "                                               title  \n",
       "0  JAPAN: Tokyo stocks likely to rise after Dow r...  \n",
       "1  EU:  OFFICIAL JOURNAL CONTENTS - OJ C 111 OF A...  \n",
       "2  EU:  OFFICIAL JOURNAL CONTENTS - OJ C 113 OF A...  \n",
       "3  EU:  OFFICIAL JOURNAL CONTENTS - OJ C 114 OF A...  \n",
       "4  EU:  OFFICIAL JOURNAL CONTENTS - OJ L 97 OF AP...  "
      ]
     },
     "execution_count": 2,
     "metadata": {},
     "output_type": "execute_result"
    }
   ],
   "source": [
    "df = pd.read_json('train/train.json.xz', compression='xz')\n",
    "#df = df.sample(frac=0.2) # Uncomment to work with a smaller subset of data\n",
    "df.head()"
   ]
  },
  {
   "cell_type": "markdown",
   "metadata": {},
   "source": [
    "## Some clean up"
   ]
  },
  {
   "cell_type": "markdown",
   "metadata": {},
   "source": [
    "Let's put here the preprocessing we want to do to our data. For example, there are few items with no headline... Replace with \" \"."
   ]
  },
  {
   "cell_type": "code",
   "execution_count": 3,
   "metadata": {},
   "outputs": [
    {
     "data": {
      "text/html": [
       "<div>\n",
       "<style scoped>\n",
       "    .dataframe tbody tr th:only-of-type {\n",
       "        vertical-align: middle;\n",
       "    }\n",
       "\n",
       "    .dataframe tbody tr th {\n",
       "        vertical-align: top;\n",
       "    }\n",
       "\n",
       "    .dataframe thead th {\n",
       "        text-align: right;\n",
       "    }\n",
       "</style>\n",
       "<table border=\"1\" class=\"dataframe\">\n",
       "  <thead>\n",
       "    <tr style=\"text-align: right;\">\n",
       "      <th></th>\n",
       "      <th>codes</th>\n",
       "      <th>headline</th>\n",
       "      <th>text</th>\n",
       "      <th>title</th>\n",
       "    </tr>\n",
       "  </thead>\n",
       "  <tbody>\n",
       "    <tr>\n",
       "      <th>54188</th>\n",
       "      <td>[]</td>\n",
       "      <td>None</td>\n",
       "      <td>LONDON, Reuter - Following are the buying and ...</td>\n",
       "      <td>None</td>\n",
       "    </tr>\n",
       "    <tr>\n",
       "      <th>139410</th>\n",
       "      <td>[]</td>\n",
       "      <td>None</td>\n",
       "      <td>General Dynamics Corp bid about $1 billion for...</td>\n",
       "      <td>USA:</td>\n",
       "    </tr>\n",
       "    <tr>\n",
       "      <th>191484</th>\n",
       "      <td>[E21, E212, ECAT, M11, MCAT]</td>\n",
       "      <td>None</td>\n",
       "      <td>:Delhi shares surge after budget clears parlia...</td>\n",
       "      <td>INDIA:</td>\n",
       "    </tr>\n",
       "    <tr>\n",
       "      <th>194718</th>\n",
       "      <td>[M11, MCAT]</td>\n",
       "      <td>None</td>\n",
       "      <td>INDIA: Delhi shares rise in hectic afternoon t...</td>\n",
       "      <td>INDIA:</td>\n",
       "    </tr>\n",
       "    <tr>\n",
       "      <th>248396</th>\n",
       "      <td>[G154, G155]</td>\n",
       "      <td>None</td>\n",
       "      <td>The future cost of state funding of pensions i...</td>\n",
       "      <td>FRANCE:</td>\n",
       "    </tr>\n",
       "    <tr>\n",
       "      <th>274094</th>\n",
       "      <td>[M11, MCAT]</td>\n",
       "      <td>None</td>\n",
       "      <td>Leading British stocks look set to continue th...</td>\n",
       "      <td>UK:</td>\n",
       "    </tr>\n",
       "  </tbody>\n",
       "</table>\n",
       "</div>"
      ],
      "text/plain": [
       "                               codes headline  \\\n",
       "54188                             []     None   \n",
       "139410                            []     None   \n",
       "191484  [E21, E212, ECAT, M11, MCAT]     None   \n",
       "194718                   [M11, MCAT]     None   \n",
       "248396                  [G154, G155]     None   \n",
       "274094                   [M11, MCAT]     None   \n",
       "\n",
       "                                                     text    title  \n",
       "54188   LONDON, Reuter - Following are the buying and ...     None  \n",
       "139410  General Dynamics Corp bid about $1 billion for...     USA:  \n",
       "191484  :Delhi shares surge after budget clears parlia...   INDIA:  \n",
       "194718  INDIA: Delhi shares rise in hectic afternoon t...   INDIA:  \n",
       "248396  The future cost of state funding of pensions i...  FRANCE:  \n",
       "274094  Leading British stocks look set to continue th...      UK:  "
      ]
     },
     "execution_count": 3,
     "metadata": {},
     "output_type": "execute_result"
    }
   ],
   "source": [
    "df[df['headline'].isnull()]"
   ]
  },
  {
   "cell_type": "code",
   "execution_count": 4,
   "metadata": {},
   "outputs": [
    {
     "data": {
      "text/html": [
       "<div>\n",
       "<style scoped>\n",
       "    .dataframe tbody tr th:only-of-type {\n",
       "        vertical-align: middle;\n",
       "    }\n",
       "\n",
       "    .dataframe tbody tr th {\n",
       "        vertical-align: top;\n",
       "    }\n",
       "\n",
       "    .dataframe thead th {\n",
       "        text-align: right;\n",
       "    }\n",
       "</style>\n",
       "<table border=\"1\" class=\"dataframe\">\n",
       "  <thead>\n",
       "    <tr style=\"text-align: right;\">\n",
       "      <th></th>\n",
       "      <th>codes</th>\n",
       "      <th>headline</th>\n",
       "      <th>text</th>\n",
       "      <th>title</th>\n",
       "    </tr>\n",
       "  </thead>\n",
       "  <tbody>\n",
       "    <tr>\n",
       "      <th>54188</th>\n",
       "      <td>[]</td>\n",
       "      <td>None</td>\n",
       "      <td>LONDON, Reuter - Following are the buying and ...</td>\n",
       "      <td>None</td>\n",
       "    </tr>\n",
       "  </tbody>\n",
       "</table>\n",
       "</div>"
      ],
      "text/plain": [
       "      codes headline                                               text title\n",
       "54188    []     None  LONDON, Reuter - Following are the buying and ...  None"
      ]
     },
     "execution_count": 4,
     "metadata": {},
     "output_type": "execute_result"
    }
   ],
   "source": [
    "df[df['title'].isnull()]"
   ]
  },
  {
   "cell_type": "code",
   "execution_count": 3,
   "metadata": {},
   "outputs": [],
   "source": [
    "def clean_df(df):\n",
    "    df.headline.fillna(value=\" \", inplace=True)\n",
    "    df.title.fillna(value=\" \", inplace=True)\n",
    "\n",
    "    re_dict = {\"\\n\": \" \",\n",
    "               \"\\t\": \" \",\n",
    "               \"\\'s\": \" \\'s\",\n",
    "               \"?\": \" ? \",\n",
    "               \".\": \" . \",\n",
    "               \",\": \" , \",\n",
    "               '\"': ' \" ',\n",
    "               \":\": \" : \",\n",
    "               \"*\": \" * \",\n",
    "               \"(\": \" ( \", \")\": \" ) \", \"$\": \" $ \", \"/\": \" / \"}\n",
    "    for to_replace, replacement in re_dict.items():\n",
    "        df.text = df.text.str.replace(to_replace, replacement)\n",
    "        df.headline = df.headline.str.replace(to_replace, replacement)\n",
    "\n",
    "    return df\n",
    "\n",
    "df = clean_df(df)"
   ]
  },
  {
   "cell_type": "markdown",
   "metadata": {},
   "source": [
    "## What are we dealing with?\n",
    "Lengths of headlines"
   ]
  },
  {
   "cell_type": "code",
   "execution_count": 6,
   "metadata": {},
   "outputs": [
    {
     "data": {
      "text/plain": [
       "count    299773.000000\n",
       "mean         47.518756\n",
       "std           7.281638\n",
       "min           1.000000\n",
       "25%          43.000000\n",
       "50%          49.000000\n",
       "75%          53.000000\n",
       "max         162.000000\n",
       "Name: headline, dtype: float64"
      ]
     },
     "execution_count": 6,
     "metadata": {},
     "output_type": "execute_result"
    }
   ],
   "source": [
    "df.headline.apply(len).describe()"
   ]
  },
  {
   "cell_type": "markdown",
   "metadata": {},
   "source": [
    "Lengths of text fields. There seems to be a few light year long items."
   ]
  },
  {
   "cell_type": "code",
   "execution_count": 7,
   "metadata": {},
   "outputs": [
    {
     "data": {
      "text/plain": [
       "count    299773.000000\n",
       "mean       1533.312753\n",
       "std        1394.437257\n",
       "min           0.000000\n",
       "25%         618.000000\n",
       "50%        1149.000000\n",
       "75%        2066.000000\n",
       "max       55120.000000\n",
       "Name: text, dtype: float64"
      ]
     },
     "execution_count": 7,
     "metadata": {},
     "output_type": "execute_result"
    }
   ],
   "source": [
    "df.text.apply(len).describe()"
   ]
  },
  {
   "cell_type": "markdown",
   "metadata": {},
   "source": [
    "How many codes items have? Most have a handful but some can have 10x more."
   ]
  },
  {
   "cell_type": "code",
   "execution_count": 8,
   "metadata": {},
   "outputs": [
    {
     "name": "stdout",
     "output_type": "stream",
     "text": [
      "count    299773.000000\n",
      "mean          3.202697\n",
      "std           1.399520\n",
      "min           0.000000\n",
      "25%           2.000000\n",
      "50%           3.000000\n",
      "75%           4.000000\n",
      "max          16.000000\n",
      "Name: codes, dtype: float64\n"
     ]
    },
    {
     "data": {
      "text/plain": [
       "<matplotlib.axes._subplots.AxesSubplot at 0x7f2c881aea90>"
      ]
     },
     "execution_count": 8,
     "metadata": {},
     "output_type": "execute_result"
    },
    {
     "data": {
      "image/png": "[encoded data removed]",
      "text/plain": [
       "<Figure size 432x288 with 1 Axes>"
      ]
     },
     "metadata": {
      "needs_background": "light"
     },
     "output_type": "display_data"
    }
   ],
   "source": [
    "print(df.codes.apply(len).describe())\n",
    "df.codes.apply(len).hist()"
   ]
  },
  {
   "cell_type": "markdown",
   "metadata": {},
   "source": [
    "How many different codes are in data?"
   ]
  },
  {
   "cell_type": "code",
   "execution_count": 4,
   "metadata": {},
   "outputs": [
    {
     "name": "stdout",
     "output_type": "stream",
     "text": [
      "103\n"
     ]
    }
   ],
   "source": [
    "codesList = df.codes.values\n",
    "codes = []\n",
    "for cs in codesList:\n",
    "    codes += cs\n",
    "print(len(set(codes)))"
   ]
  },
  {
   "cell_type": "markdown",
   "metadata": {},
   "source": [
    "How about in the text files that give labels for these codes? I have gathered these in one file, `topic_codes.txt`."
   ]
  },
  {
   "cell_type": "code",
   "execution_count": 5,
   "metadata": {},
   "outputs": [
    {
     "name": "stdout",
     "output_type": "stream",
     "text": [
      "True\n"
     ]
    },
    {
     "data": {
      "text/plain": [
       "126"
      ]
     },
     "execution_count": 5,
     "metadata": {},
     "output_type": "execute_result"
    }
   ],
   "source": [
    "topic_codes = []\n",
    "with open('train/topic_codes.txt', 'r') as f:\n",
    "    tc = f.readlines()\n",
    "    for x in tc:\n",
    "        c,l = x.split('\\t',1)\n",
    "        topic_codes.append(c.strip())\n",
    "\n",
    "# Check for duplicates\n",
    "print(len(topic_codes)==len(list(set(topic_codes))))\n",
    "len(topic_codes)"
   ]
  },
  {
   "cell_type": "markdown",
   "metadata": {},
   "source": [
    "This means that not all codes that appear in `topic_codes.txt` appear in the actual training data. What should we do about this?"
   ]
  },
  {
   "cell_type": "code",
   "execution_count": 6,
   "metadata": {},
   "outputs": [
    {
     "data": {
      "text/plain": [
       "126"
      ]
     },
     "execution_count": 6,
     "metadata": {},
     "output_type": "execute_result"
    }
   ],
   "source": [
    "len(set(codes+topic_codes))"
   ]
  },
  {
   "cell_type": "markdown",
   "metadata": {},
   "source": [
    "There is no unknown codes in training data. Good."
   ]
  },
  {
   "cell_type": "code",
   "execution_count": 7,
   "metadata": {},
   "outputs": [],
   "source": [
    "occurences = []\n",
    "for c in topic_codes:\n",
    "    occurences.append(codes.count(c))"
   ]
  },
  {
   "cell_type": "code",
   "execution_count": 8,
   "metadata": {},
   "outputs": [
    {
     "data": {
      "text/plain": [
       "23"
      ]
     },
     "execution_count": 8,
     "metadata": {},
     "output_type": "execute_result"
    },
    {
     "data": {
      "image/png": "[encoded data removed]",
      "text/plain": [
       "<Figure size 432x288 with 1 Axes>"
      ]
     },
     "metadata": {
      "needs_background": "light"
     },
     "output_type": "display_data"
    }
   ],
   "source": [
    "plt.scatter(np.arange(len(occurences)),occurences)\n",
    "occurences.count(0)"
   ]
  },
  {
   "cell_type": "markdown",
   "metadata": {},
   "source": [
    "Some labels are very common, for example"
   ]
  },
  {
   "cell_type": "code",
   "execution_count": 9,
   "metadata": {},
   "outputs": [
    {
     "data": {
      "text/plain": [
       "137531"
      ]
     },
     "execution_count": 9,
     "metadata": {},
     "output_type": "execute_result"
    }
   ],
   "source": [
    "codes.count('CCAT')"
   ]
  },
  {
   "cell_type": "code",
   "execution_count": 10,
   "metadata": {},
   "outputs": [
    {
     "data": {
      "text/plain": [
       "[(137531, 'CCAT'),\n",
       " (82580, 'GCAT'),\n",
       " (81940, 'MCAT'),\n",
       " (59207, 'C15'),\n",
       " (42374, 'ECAT'),\n",
       " (33963, 'C151'),\n",
       " (33786, 'M14'),\n",
       " (27095, 'C152'),\n",
       " (21499, 'M13'),\n",
       " (20042, 'GPOL')]"
      ]
     },
     "execution_count": 10,
     "metadata": {},
     "output_type": "execute_result"
    }
   ],
   "source": [
    "sorted([(occurences[i],c) for i,c in enumerate(topic_codes)], key=lambda x: -x[0])[:10]"
   ]
  },
  {
   "cell_type": "code",
   "execution_count": 11,
   "metadata": {},
   "outputs": [],
   "source": [
    "commonCodes = list(map(lambda x: x[1],sorted([(occurences[i],c) for i,c in enumerate(topic_codes)], key=lambda x: -x[0])))"
   ]
  },
  {
   "cell_type": "markdown",
   "metadata": {},
   "source": [
    "## Pytorch dataset for CNN"
   ]
  },
  {
   "cell_type": "markdown",
   "metadata": {},
   "source": [
    "Download pretrained Global Vectors (GloVe) embeddings with `torchtext`."
   ]
  },
  {
   "cell_type": "code",
   "execution_count": 23,
   "metadata": {},
   "outputs": [],
   "source": [
    "from torchtext import datasets, vocab\n",
    "\n",
    "glove = vocab.GloVe(name='6B', dim=100)"
   ]
  },
  {
   "cell_type": "markdown",
   "metadata": {},
   "source": [
    "Dataset from a Pandas dataframe. Now we take the headline and append up to 500 characters from text and tokenize that. Targets are binary vectors of length `len(topic_codes)`."
   ]
  },
  {
   "cell_type": "code",
   "execution_count": 24,
   "metadata": {},
   "outputs": [],
   "source": [
    "# If token sequence is too short, use this index as padding.\n",
    "pad_idx = 400000-1\n",
    "\n",
    "class ReutersDataset(Dataset):\n",
    "    def __init__(self, df):\n",
    "        self.df = df\n",
    "        \n",
    "    def __getitem__(self, index):\n",
    "        # For now, return simply the headline\n",
    "        # and corresponding codes. We have to\n",
    "        # think what we actually want to feed\n",
    "        # into our model.\n",
    "        data = self.df.iloc[index]\n",
    "        h,t,txt,cs = data.headline, data.title, data.text, data.codes\n",
    "        return self.newsToTensor(h,txt), self.codesToTensor(cs)\n",
    "\n",
    "    def __len__(self):\n",
    "        return len(self.df)\n",
    "    \n",
    "    def codesToTensor(self, codes):\n",
    "        indices = [topic_codes.index(c) for c in codes]\n",
    "        target = torch.zeros(len(topic_codes))\n",
    "        for i in indices:\n",
    "            target[i] = 1\n",
    "        return target\n",
    "\n",
    "    def newsToTensor(self, h, txt):\n",
    "        # How many characters to take from txt\n",
    "        max_txt_len = 500\n",
    "        txt = txt if txt is not None else \"\"\n",
    "        txt = txt if len(txt) < max_txt_len else txt[:max_txt_len]\n",
    "        h = h if h is not None else \"\"\n",
    "        feature = h + \" \" + txt\n",
    "        return torch.tensor(self.tokenize(feature))\n",
    "        \n",
    "    def tokenize(self, txt):\n",
    "        words = txt.lower().split()\n",
    "        tokens = [glove.stoi[word] for word in words if word in glove.stoi]\n",
    "        # This number has to be adjusted to be at least the size of our largest convolution,\n",
    "        # otherwise the first convolutions will be undefined.\n",
    "        min_len = 5\n",
    "        tokens = tokens if len(tokens) >= min_len else tokens + ([pad_idx]*min_len-len(tokens))\n",
    "        return tokens"
   ]
  },
  {
   "cell_type": "markdown",
   "metadata": {},
   "source": [
    "Most of our training examples are of different lengths, so we must pad examples such that all examples in a batch have the same length. We'll pad to the length of the longest example in a batch. I don't know if `pytorch` can do this automatically, so I'll give a modified `collate_fn` for our data loaders."
   ]
  },
  {
   "cell_type": "code",
   "execution_count": 25,
   "metadata": {},
   "outputs": [],
   "source": [
    "# This assumes that the tensor is rank one\n",
    "# and that it's shorter than 'length'.\n",
    "def pad_to_length(tensor, length):\n",
    "    return F.pad(tensor, (0, length-tensor.shape[0]), 'constant', pad_idx)\n",
    "\n",
    "def pad_collate(batch):\n",
    "    max_len = max(map(lambda example: len(example[0]), batch))\n",
    "    xs = [tup[0] for tup in batch]\n",
    "    xs = torch.stack(list(map(lambda x: pad_to_length(x,max_len), xs)))\n",
    "    ys = torch.stack([example[1] for example in batch])\n",
    "    return xs, ys"
   ]
  },
  {
   "cell_type": "markdown",
   "metadata": {},
   "source": [
    "Instantiate the dataset and get data loaders. The training dataset is split into `train_set` and `test_set`."
   ]
  },
  {
   "cell_type": "code",
   "execution_count": 26,
   "metadata": {},
   "outputs": [],
   "source": [
    "train_set = ReutersDataset(df.sample(frac=0.9))\n",
    "test_set = ReutersDataset(df.drop(train_set.df.index))\n",
    "\n",
    "batch_size = 64\n",
    "train_loader = torch.utils.data.DataLoader(dataset=train_set, batch_size=batch_size,\n",
    "                                           collate_fn=pad_collate, shuffle=True, num_workers=4)\n",
    "test_loader = torch.utils.data.DataLoader(dataset=test_set, batch_size=batch_size,\n",
    "                                          collate_fn=pad_collate, shuffle=False, num_workers=4)"
   ]
  },
  {
   "cell_type": "markdown",
   "metadata": {},
   "source": [
    "## Model"
   ]
  },
  {
   "cell_type": "markdown",
   "metadata": {},
   "source": [
    "Choose a device"
   ]
  },
  {
   "cell_type": "code",
   "execution_count": 27,
   "metadata": {},
   "outputs": [
    {
     "name": "stdout",
     "output_type": "stream",
     "text": [
      "Using GPU!\n"
     ]
    },
    {
     "name": "stderr",
     "output_type": "stream",
     "text": [
      "\n",
      " 99%|█████████▉| 397255/400000 [00:24<00:00, 30204.77it/s]\u001b[A"
     ]
    }
   ],
   "source": [
    "if torch.cuda.is_available():\n",
    "    print('Using GPU!')\n",
    "    device = torch.device('cuda')\n",
    "else:\n",
    "    print('Using CPU')\n",
    "    device = torch.device('cpu')"
   ]
  },
  {
   "cell_type": "code",
   "execution_count": 28,
   "metadata": {},
   "outputs": [],
   "source": [
    "num_filters = 200\n",
    "embedding_dim = len(glove.vectors[0])\n",
    "output_dim = len(topic_codes)\n",
    "compact_dim = output_dim//2\n",
    "\n",
    "class Model(nn.Module):\n",
    "    def __init__(self):\n",
    "        super(Model, self).__init__()\n",
    "        self.embedding = nn.Embedding.from_pretrained(glove.vectors, freeze=True)\n",
    "        self.conv1_3 = nn.Conv2d(1, num_filters, (3,embedding_dim))\n",
    "        self.conv1_4 = nn.Conv2d(1, num_filters, (4,embedding_dim))\n",
    "        self.conv1_5 = nn.Conv2d(1, num_filters, (5,embedding_dim))\n",
    "        self.fc1 = nn.Linear(3*num_filters, compact_dim)\n",
    "        self.fc2 = nn.Linear(compact_dim, output_dim)\n",
    "    def forward(self, X):\n",
    "        X = self.embedding(X)\n",
    "        # First convolutions\n",
    "        X3 = F.relu(self.conv1_3(X.unsqueeze(1)).squeeze(-1))\n",
    "        X4 = F.relu(self.conv1_4(X.unsqueeze(1)).squeeze(-1))\n",
    "        X5 = F.relu(self.conv1_5(X.unsqueeze(1)).squeeze(-1))\n",
    "        # Pooling\n",
    "        X3 = F.max_pool1d(X3, X3.shape[-1]).squeeze(-1)\n",
    "        X4 = F.max_pool1d(X4, X4.shape[-1]).squeeze(-1)\n",
    "        X5 = F.max_pool1d(X5, X5.shape[-1]).squeeze(-1)\n",
    "        # Fully connected\n",
    "        X = torch.cat((X3,X4,X5), dim=-1)\n",
    "        X = F.dropout(F.relu(self.fc1(X)), p=0.25)\n",
    "        return self.fc2(X)\n",
    "    \n",
    "model = Model().to(device)"
   ]
  },
  {
   "cell_type": "markdown",
   "metadata": {},
   "source": [
    "Check that model outputs what we expect."
   ]
  },
  {
   "cell_type": "code",
   "execution_count": 29,
   "metadata": {},
   "outputs": [
    {
     "name": "stdout",
     "output_type": "stream",
     "text": [
      "torch.Size([64, 142])\n"
     ]
    },
    {
     "data": {
      "text/plain": [
       "torch.Size([64, 126])"
      ]
     },
     "execution_count": 29,
     "metadata": {},
     "output_type": "execute_result"
    }
   ],
   "source": [
    "example = next(iter(train_loader))[0].to(device)\n",
    "print(example.shape) # Should be [batch_size,len(longest example in batch)]\n",
    "model(example).shape # Should be [batch_size,output_size]"
   ]
  },
  {
   "cell_type": "markdown",
   "metadata": {},
   "source": [
    "Functions for training and validation."
   ]
  },
  {
   "cell_type": "code",
   "execution_count": 30,
   "metadata": {},
   "outputs": [],
   "source": [
    "def train(epoch, train_vector, logs_per_epoch=7):\n",
    "    # Set model to training mode\n",
    "    model.train()\n",
    "    \n",
    "    train_loss = 0\n",
    "    num_batches = len(train_loader)\n",
    "    start = time.time()\n",
    "    # Loop over each batch from the training set\n",
    "    for batch_idx, (X, y) in enumerate(train_loader):\n",
    "        X = X.to(device)\n",
    "        y = y.to(device)\n",
    "        # Zero gradient buffers\n",
    "        optimizer.zero_grad() \n",
    "        # Pass data through the network\n",
    "        output = model(X)\n",
    "        # Calculate loss\n",
    "        loss = criterion(output, y)\n",
    "        train_loss += loss.item()\n",
    "        # Backpropagate\n",
    "        loss.backward()\n",
    "        # Update weights\n",
    "        optimizer.step()\n",
    "        \n",
    "        if batch_idx % (num_batches//logs_per_epoch) == 0 and batch_idx > 0:\n",
    "            now = time.time()\n",
    "            inputs_per_sec = ((batch_idx+1)*batch_size)/(now-start)\n",
    "            eta_min = (epochs*num_batches-(epoch-1)*num_batches-(batch_idx+1))*batch_size/inputs_per_sec/60\n",
    "            print('Epoch: {} [{}/{} ({:.0f}%)]\\tLoss: {:.6f}\\tInputs/s: {:.1f}\\tRemaining: {:.1f} min'.format(\n",
    "                epoch, batch_idx * len(X), len(train_loader.dataset),\n",
    "                100. * batch_idx / len(train_loader), loss.data.item(), inputs_per_sec, eta_min))\n",
    "\n",
    "    train_loss /= len(train_loader)\n",
    "    train_vector.append(train_loss)\n",
    "\n",
    "def validate(loss_vector):\n",
    "    model.eval()\n",
    "    val_loss = 0\n",
    "    print('\\nValidating...')\n",
    "    for (X, y) in test_loader:\n",
    "        X = X.to(device)\n",
    "        y = y.to(device)\n",
    "        output = model(X)\n",
    "        val_loss += criterion(output, y).data.item()\n",
    "\n",
    "    val_loss /= len(test_loader)\n",
    "    loss_vector.append(val_loss)\n",
    "    \n",
    "    print('Validation set: Average loss: {:.4f}\\n'.format(val_loss))"
   ]
  },
  {
   "cell_type": "markdown",
   "metadata": {},
   "source": [
    "Actual training"
   ]
  },
  {
   "cell_type": "code",
   "execution_count": 31,
   "metadata": {},
   "outputs": [
    {
     "name": "stdout",
     "output_type": "stream",
     "text": [
      "\n",
      "Validating...\n",
      "Validation set: Average loss: 0.7014\n",
      "\n",
      "Epoch: 1 [89920/269796 (33%)]\tLoss: 0.034563\tInputs/s: 1742.4\tRemaining: 12.0 min\n",
      "Epoch: 1 [179840/269796 (67%)]\tLoss: 0.036523\tInputs/s: 1740.0\tRemaining: 11.2 min\n",
      "Epoch: 1 [151740/269796 (100%)]\tLoss: 0.026316\tInputs/s: 1737.6\tRemaining: 10.4 min\n",
      "\n",
      "Validating...\n",
      "Validation set: Average loss: 0.0313\n",
      "\n",
      "Epoch: 2 [89920/269796 (33%)]\tLoss: 0.027299\tInputs/s: 1731.7\tRemaining: 9.5 min\n",
      "Epoch: 2 [179840/269796 (67%)]\tLoss: 0.030758\tInputs/s: 1734.6\tRemaining: 8.6 min\n",
      "Epoch: 2 [151740/269796 (100%)]\tLoss: 0.030499\tInputs/s: 1735.8\tRemaining: 7.8 min\n",
      "\n",
      "Validating...\n",
      "Validation set: Average loss: 0.0299\n",
      "\n",
      "Epoch: 3 [89920/269796 (33%)]\tLoss: 0.017328\tInputs/s: 1733.0\tRemaining: 6.9 min\n",
      "Epoch: 3 [179840/269796 (67%)]\tLoss: 0.030064\tInputs/s: 1735.3\tRemaining: 6.0 min\n",
      "Epoch: 3 [151740/269796 (100%)]\tLoss: 0.024460\tInputs/s: 1736.4\tRemaining: 5.2 min\n",
      "\n",
      "Validating...\n",
      "Validation set: Average loss: 0.0284\n",
      "\n",
      "Epoch: 4 [89920/269796 (33%)]\tLoss: 0.026226\tInputs/s: 1732.4\tRemaining: 4.3 min\n",
      "Epoch: 4 [179840/269796 (67%)]\tLoss: 0.026249\tInputs/s: 1735.1\tRemaining: 3.5 min\n",
      "Epoch: 4 [151740/269796 (100%)]\tLoss: 0.024045\tInputs/s: 1736.5\tRemaining: 2.6 min\n",
      "\n",
      "Validating...\n",
      "Validation set: Average loss: 0.0279\n",
      "\n",
      "Epoch: 5 [89920/269796 (33%)]\tLoss: 0.028536\tInputs/s: 1734.1\tRemaining: 1.7 min\n",
      "Epoch: 5 [179840/269796 (67%)]\tLoss: 0.023691\tInputs/s: 1736.3\tRemaining: 0.9 min\n",
      "Epoch: 5 [151740/269796 (100%)]\tLoss: 0.028084\tInputs/s: 1737.2\tRemaining: 0.0 min\n",
      "\n",
      "Validating...\n",
      "Validation set: Average loss: 0.0278\n",
      "\n"
     ]
    }
   ],
   "source": [
    "criterion = nn.BCEWithLogitsLoss()\n",
    "parameters = model.parameters()\n",
    "optimizer = optim.Adam(parameters)\n",
    "\n",
    "epochs = 5\n",
    "losst, lossv = [], []\n",
    "validate([])\n",
    "for epoch in range(1, epochs + 1):\n",
    "    train(epoch, losst, logs_per_epoch = 3)\n",
    "    validate(lossv)"
   ]
  },
  {
   "cell_type": "markdown",
   "metadata": {},
   "source": [
    "Some plots of losses per epoch."
   ]
  },
  {
   "cell_type": "code",
   "execution_count": 32,
   "metadata": {},
   "outputs": [
    {
     "data": {
      "text/plain": [
       "Text(0.5, 1.0, 'loss vs epoch')"
      ]
     },
     "execution_count": 32,
     "metadata": {},
     "output_type": "execute_result"
    },
    {
     "data": {
      "image/png": "[encoded data removed]",
      "text/plain": [
       "<Figure size 360x216 with 1 Axes>"
      ]
     },
     "metadata": {
      "needs_background": "light"
     },
     "output_type": "display_data"
    }
   ],
   "source": [
    "plt.figure(figsize=(5,3))\n",
    "plt.plot(np.arange(1,len(losst)+1), losst, label=\"training\")\n",
    "plt.plot(np.arange(1,len(lossv)+1), lossv, label=\"validation\")\n",
    "plt.legend(bbox_to_anchor=(1.05, 1), loc=2, borderaxespad=0.)\n",
    "plt.title('loss vs epoch')"
   ]
  },
  {
   "cell_type": "markdown",
   "metadata": {},
   "source": [
    "## Model evaluation\n",
    "I'll implement for starters the \"precision at k\" (P@k) evaluation metric. It is defined by  \n",
    "$P@k = \\frac{1}{k} \\sum_{l=1}^k y_{rank(l)}$,  \n",
    "where $y\\in (0,1)^L$ is the true label binary vector and $rank(l)$ is the index of the $l$-th highest label predicted by the system. This metric is averaged over the test set."
   ]
  },
  {
   "cell_type": "code",
   "execution_count": 33,
   "metadata": {},
   "outputs": [],
   "source": [
    "def pAtK(k):\n",
    "    model.eval()\n",
    "    p_at_k = 0\n",
    "    for (X, y) in test_loader:\n",
    "        X = X.to(device)\n",
    "        y = y.cpu()\n",
    "        output = model(X).cpu()\n",
    "        #output = train_set.codesToTensor(commonCodes[:k]).repeat([len(y),1]) # Uncomment to predict the most common codes every time\n",
    "        # Iterate over batch examples\n",
    "        for batch_idx in range(len(output)):\n",
    "            k_highest_idx = torch.topk(output[batch_idx], k)[1].numpy()\n",
    "            # Iterate over predicted labels\n",
    "            for pred_idx in k_highest_idx:\n",
    "                p_at_k += y[batch_idx,pred_idx].item()\n",
    "    p_at_k = p_at_k/(len(test_loader)*batch_size*k)\n",
    "    return p_at_k"
   ]
  },
  {
   "cell_type": "code",
   "execution_count": 34,
   "metadata": {},
   "outputs": [
    {
     "name": "stdout",
     "output_type": "stream",
     "text": [
      "P@1: 0.947261460554371 %\n",
      "P@3: 0.7822494669509595 %\n",
      "P@5: 0.5441231343283582 %\n"
     ]
    }
   ],
   "source": [
    "print(\"P@1:\", pAtK(1), \"%\")\n",
    "print(\"P@3:\", pAtK(3), \"%\")\n",
    "print(\"P@5:\", pAtK(5), \"%\")"
   ]
  },
  {
   "cell_type": "markdown",
   "metadata": {},
   "source": [
    "What kind of precisions we get if we simply guess the most common labels for every example?"
   ]
  },
  {
   "cell_type": "code",
   "execution_count": 104,
   "metadata": {},
   "outputs": [
    {
     "name": "stdout",
     "output_type": "stream",
     "text": [
      "P@1: 0.45877922181895814 %\n",
      "P@3: 0.3358629999288357 %\n",
      "P@5: 0.2692890691716482 %\n"
     ]
    }
   ],
   "source": [
    "print(\"P@1:\", pAtK(1), \"%\")\n",
    "print(\"P@3:\", pAtK(3), \"%\")\n",
    "print(\"P@5:\", pAtK(5), \"%\")"
   ]
  },
  {
   "cell_type": "markdown",
   "metadata": {},
   "source": [
    "## Save your model\n",
    "\n",
    "It might be useful to save your model if you want to continue your work later, or use it for inference later."
   ]
  },
  {
   "cell_type": "code",
   "execution_count": null,
   "metadata": {},
   "outputs": [],
   "source": [
    "torch.save(model.state_dict(), 'model.pkl')"
   ]
  },
  {
   "cell_type": "markdown",
   "metadata": {},
   "source": [
    "The model file should now be visible in the \"Home\" screen of the jupyter notebooks interface.  There you should be able to select it and press \"download\".\n",
    "\n",
    "## Download test set\n",
    "\n",
    "The testset will be made available during the last week before the deadline and can be downloaded in the same way as the training set."
   ]
  },
  {
   "cell_type": "code",
   "execution_count": 35,
   "metadata": {},
   "outputs": [
    {
     "name": "stdout",
     "output_type": "stream",
     "text": [
      "Downloading http://bsnlp-2017.cs.helsinki.fi/REUTERSX/REUTERS_CORPUS_2_TEST_strip/19970410-test.zip to train/test/19970410-test.zip\n",
      "Downloading http://bsnlp-2017.cs.helsinki.fi/REUTERSX/REUTERS_CORPUS_2_TEST_strip/19970420-test.zip to train/test/19970420-test.zip\n",
      "Downloading http://bsnlp-2017.cs.helsinki.fi/REUTERSX/REUTERS_CORPUS_2_TEST_strip/19970430-test.zip to train/test/19970430-test.zip\n",
      "Downloading http://bsnlp-2017.cs.helsinki.fi/REUTERSX/REUTERS_CORPUS_2_TEST_strip/19970510-test.zip to train/test/19970510-test.zip\n",
      "Downloading http://bsnlp-2017.cs.helsinki.fi/REUTERSX/REUTERS_CORPUS_2_TEST_strip/19970520-test.zip to train/test/19970520-test.zip\n",
      "Downloading http://bsnlp-2017.cs.helsinki.fi/REUTERSX/REUTERS_CORPUS_2_TEST_strip/19970530-test.zip to train/test/19970530-test.zip\n",
      "Downloading http://bsnlp-2017.cs.helsinki.fi/REUTERSX/REUTERS_CORPUS_2_TEST_strip/19970609-test.zip to train/test/19970609-test.zip\n",
      "Downloading http://bsnlp-2017.cs.helsinki.fi/REUTERSX/REUTERS_CORPUS_2_TEST_strip/19970619-test.zip to train/test/19970619-test.zip\n",
      "Downloading http://bsnlp-2017.cs.helsinki.fi/REUTERSX/REUTERS_CORPUS_2_TEST_strip/19970629-test.zip to train/test/19970629-test.zip\n",
      "Downloading http://bsnlp-2017.cs.helsinki.fi/REUTERSX/REUTERS_CORPUS_2_TEST_strip/19970709-test.zip to train/test/19970709-test.zip\n",
      "Downloading http://bsnlp-2017.cs.helsinki.fi/REUTERSX/REUTERS_CORPUS_2_TEST_strip/19970719-test.zip to train/test/19970719-test.zip\n",
      "Downloading http://bsnlp-2017.cs.helsinki.fi/REUTERSX/REUTERS_CORPUS_2_TEST_strip/19970729-test.zip to train/test/19970729-test.zip\n",
      "Downloading http://bsnlp-2017.cs.helsinki.fi/REUTERSX/REUTERS_CORPUS_2_TEST_strip/19970808-test.zip to train/test/19970808-test.zip\n",
      "Downloading http://bsnlp-2017.cs.helsinki.fi/REUTERSX/REUTERS_CORPUS_2_TEST_strip/19970818-test.zip to train/test/19970818-test.zip\n"
     ]
    }
   ],
   "source": [
    "import os\n",
    "from torchvision.datasets.utils import download_url\n",
    "\n",
    "train_path='train/test/'\n",
    "dl_url='http://bsnlp-2017.cs.helsinki.fi/REUTERSX/REUTERS_CORPUS_2_TEST_strip/'\n",
    "dl_files=['19970410-test.zip','19970420-test.zip','19970430-test.zip','19970510-test.zip','19970520-test.zip',\n",
    "         '19970530-test.zip','19970609-test.zip','19970619-test.zip','19970629-test.zip','19970709-test.zip',\n",
    "         '19970719-test.zip','19970729-test.zip','19970808-test.zip','19970818-test.zip']\n",
    "\n",
    "for dl_file in dl_files:\n",
    "    if not os.path.isfile(train_path+dl_file):\n",
    "        download_url(dl_url+dl_file, root=train_path, filename=dl_file, md5=None)"
   ]
  },
  {
   "cell_type": "code",
   "execution_count": 38,
   "metadata": {},
   "outputs": [
    {
     "name": "stdout",
     "output_type": "stream",
     "text": [
      "Processing data in train/test/\n",
      "..............\n",
      "Compressing dataframe to train/test.json.xz\n"
     ]
    },
    {
     "data": {
      "text/html": [
       "<div>\n",
       "<style scoped>\n",
       "    .dataframe tbody tr th:only-of-type {\n",
       "        vertical-align: middle;\n",
       "    }\n",
       "\n",
       "    .dataframe tbody tr th {\n",
       "        vertical-align: top;\n",
       "    }\n",
       "\n",
       "    .dataframe thead th {\n",
       "        text-align: right;\n",
       "    }\n",
       "</style>\n",
       "<table border=\"1\" class=\"dataframe\">\n",
       "  <thead>\n",
       "    <tr style=\"text-align: right;\">\n",
       "      <th></th>\n",
       "      <th>headline</th>\n",
       "      <th>title</th>\n",
       "      <th>text</th>\n",
       "    </tr>\n",
       "  </thead>\n",
       "  <tbody>\n",
       "    <tr>\n",
       "      <th>0</th>\n",
       "      <td>PRESS DIGEST - SOUTH AFRICA - APRIL 10.</td>\n",
       "      <td>SOUTH AFRICA: PRESS DIGEST - SOUTH AFRICA - AP...</td>\n",
       "      <td>These are the leading stories in the South Afr...</td>\n",
       "    </tr>\n",
       "    <tr>\n",
       "      <th>1</th>\n",
       "      <td>OFFICIAL JOURNAL CONTENTS - OJ C 110 OF APRIL ...</td>\n",
       "      <td>EU:  OFFICIAL JOURNAL CONTENTS - OJ C 110 OF A...</td>\n",
       "      <td>*\\n(Note - contents are displayed in reverse o...</td>\n",
       "    </tr>\n",
       "    <tr>\n",
       "      <th>2</th>\n",
       "      <td>OFFICIAL JOURNAL CONTENTS - OJ L 94 OF APRIL 9...</td>\n",
       "      <td>EU:  OFFICIAL JOURNAL CONTENTS - OJ L 94 OF AP...</td>\n",
       "      <td>*\\n(Note - contents are displayed in reverse o...</td>\n",
       "    </tr>\n",
       "    <tr>\n",
       "      <th>3</th>\n",
       "      <td>OFFICIAL JOURNAL CONTENTS - OJ C 55 OF FEBRUAR...</td>\n",
       "      <td>EU:  OFFICIAL JOURNAL CONTENTS - OJ C 55 OF FE...</td>\n",
       "      <td>*\\nMinutes of the sitting of Wednesday, 29 Jan...</td>\n",
       "    </tr>\n",
       "    <tr>\n",
       "      <th>4</th>\n",
       "      <td>Toronto stocks close easier in lackluster deal...</td>\n",
       "      <td>CANADA: Toronto stocks close easier in lacklus...</td>\n",
       "      <td>CHANGE\\t\\t\\t\\t    CHANGE\\nTSE\\t  5790.11     -...</td>\n",
       "    </tr>\n",
       "  </tbody>\n",
       "</table>\n",
       "</div>"
      ],
      "text/plain": [
       "                                            headline  \\\n",
       "0            PRESS DIGEST - SOUTH AFRICA - APRIL 10.   \n",
       "1  OFFICIAL JOURNAL CONTENTS - OJ C 110 OF APRIL ...   \n",
       "2  OFFICIAL JOURNAL CONTENTS - OJ L 94 OF APRIL 9...   \n",
       "3  OFFICIAL JOURNAL CONTENTS - OJ C 55 OF FEBRUAR...   \n",
       "4  Toronto stocks close easier in lackluster deal...   \n",
       "\n",
       "                                               title  \\\n",
       "0  SOUTH AFRICA: PRESS DIGEST - SOUTH AFRICA - AP...   \n",
       "1  EU:  OFFICIAL JOURNAL CONTENTS - OJ C 110 OF A...   \n",
       "2  EU:  OFFICIAL JOURNAL CONTENTS - OJ L 94 OF AP...   \n",
       "3  EU:  OFFICIAL JOURNAL CONTENTS - OJ C 55 OF FE...   \n",
       "4  CANADA: Toronto stocks close easier in lacklus...   \n",
       "\n",
       "                                                text  \n",
       "0  These are the leading stories in the South Afr...  \n",
       "1  *\\n(Note - contents are displayed in reverse o...  \n",
       "2  *\\n(Note - contents are displayed in reverse o...  \n",
       "3  *\\nMinutes of the sitting of Wednesday, 29 Jan...  \n",
       "4  CHANGE\\t\\t\\t\\t    CHANGE\\nTSE\\t  5790.11     -...  "
      ]
     },
     "execution_count": 38,
     "metadata": {},
     "output_type": "execute_result"
    }
   ],
   "source": [
    "import zipfile\n",
    "\n",
    "def parseXML(file):\n",
    "    root = ET.parse(file).getroot()\n",
    "    return getHeadline(root), getTitle(root), getText(root)\n",
    "\n",
    "def parseZip(file):\n",
    "    zf = zipfile.ZipFile(file, 'r')\n",
    "    for xml in zf.namelist():\n",
    "        h,t,txt = parseXML(zf.open(xml))\n",
    "        headlines.append(h)\n",
    "        titles.append(t)\n",
    "        texts.append(txt)\n",
    "\n",
    "data_path = 'train/test/'\n",
    "headlines, titles, texts = [], [], []\n",
    "print('Processing data in', data_path)\n",
    "for f in os.listdir(data_path):\n",
    "    if f.endswith(\".zip\"):\n",
    "        print('.', end='')\n",
    "        parseZip(data_path+f)\n",
    "\n",
    "test_df = pd.DataFrame({'headline': headlines, 'title': titles, 'text': texts})\n",
    "print('\\nCompressing dataframe to train/test.json.xz')\n",
    "test_df.to_json('train/test.json.xz', orient='records', compression='xz')\n",
    "test_df.head()"
   ]
  },
  {
   "cell_type": "markdown",
   "metadata": {},
   "source": [
    "## Load a previously downloaded test set"
   ]
  },
  {
   "cell_type": "code",
   "execution_count": 39,
   "metadata": {},
   "outputs": [
    {
     "data": {
      "text/html": [
       "<div>\n",
       "<style scoped>\n",
       "    .dataframe tbody tr th:only-of-type {\n",
       "        vertical-align: middle;\n",
       "    }\n",
       "\n",
       "    .dataframe tbody tr th {\n",
       "        vertical-align: top;\n",
       "    }\n",
       "\n",
       "    .dataframe thead th {\n",
       "        text-align: right;\n",
       "    }\n",
       "</style>\n",
       "<table border=\"1\" class=\"dataframe\">\n",
       "  <thead>\n",
       "    <tr style=\"text-align: right;\">\n",
       "      <th></th>\n",
       "      <th>headline</th>\n",
       "      <th>text</th>\n",
       "      <th>title</th>\n",
       "    </tr>\n",
       "  </thead>\n",
       "  <tbody>\n",
       "    <tr>\n",
       "      <th>0</th>\n",
       "      <td>PRESS DIGEST - SOUTH AFRICA - APRIL 10.</td>\n",
       "      <td>These are the leading stories in the South Afr...</td>\n",
       "      <td>SOUTH AFRICA: PRESS DIGEST - SOUTH AFRICA - AP...</td>\n",
       "    </tr>\n",
       "    <tr>\n",
       "      <th>1</th>\n",
       "      <td>OFFICIAL JOURNAL CONTENTS - OJ C 110 OF APRIL ...</td>\n",
       "      <td>*\\n(Note - contents are displayed in reverse o...</td>\n",
       "      <td>EU:  OFFICIAL JOURNAL CONTENTS - OJ C 110 OF A...</td>\n",
       "    </tr>\n",
       "    <tr>\n",
       "      <th>2</th>\n",
       "      <td>OFFICIAL JOURNAL CONTENTS - OJ L 94 OF APRIL 9...</td>\n",
       "      <td>*\\n(Note - contents are displayed in reverse o...</td>\n",
       "      <td>EU:  OFFICIAL JOURNAL CONTENTS - OJ L 94 OF AP...</td>\n",
       "    </tr>\n",
       "    <tr>\n",
       "      <th>3</th>\n",
       "      <td>OFFICIAL JOURNAL CONTENTS - OJ C 55 OF FEBRUAR...</td>\n",
       "      <td>*\\nMinutes of the sitting of Wednesday, 29 Jan...</td>\n",
       "      <td>EU:  OFFICIAL JOURNAL CONTENTS - OJ C 55 OF FE...</td>\n",
       "    </tr>\n",
       "    <tr>\n",
       "      <th>4</th>\n",
       "      <td>Toronto stocks close easier in lackluster deal...</td>\n",
       "      <td>CHANGE\\t\\t\\t\\t    CHANGE\\nTSE\\t  5790.11     -...</td>\n",
       "      <td>CANADA: Toronto stocks close easier in lacklus...</td>\n",
       "    </tr>\n",
       "  </tbody>\n",
       "</table>\n",
       "</div>"
      ],
      "text/plain": [
       "                                            headline  \\\n",
       "0            PRESS DIGEST - SOUTH AFRICA - APRIL 10.   \n",
       "1  OFFICIAL JOURNAL CONTENTS - OJ C 110 OF APRIL ...   \n",
       "2  OFFICIAL JOURNAL CONTENTS - OJ L 94 OF APRIL 9...   \n",
       "3  OFFICIAL JOURNAL CONTENTS - OJ C 55 OF FEBRUAR...   \n",
       "4  Toronto stocks close easier in lackluster deal...   \n",
       "\n",
       "                                                text  \\\n",
       "0  These are the leading stories in the South Afr...   \n",
       "1  *\\n(Note - contents are displayed in reverse o...   \n",
       "2  *\\n(Note - contents are displayed in reverse o...   \n",
       "3  *\\nMinutes of the sitting of Wednesday, 29 Jan...   \n",
       "4  CHANGE\\t\\t\\t\\t    CHANGE\\nTSE\\t  5790.11     -...   \n",
       "\n",
       "                                               title  \n",
       "0  SOUTH AFRICA: PRESS DIGEST - SOUTH AFRICA - AP...  \n",
       "1  EU:  OFFICIAL JOURNAL CONTENTS - OJ C 110 OF A...  \n",
       "2  EU:  OFFICIAL JOURNAL CONTENTS - OJ L 94 OF AP...  \n",
       "3  EU:  OFFICIAL JOURNAL CONTENTS - OJ C 55 OF FE...  \n",
       "4  CANADA: Toronto stocks close easier in lacklus...  "
      ]
     },
     "execution_count": 39,
     "metadata": {},
     "output_type": "execute_result"
    }
   ],
   "source": [
    "test_df = pd.read_json('train/test.json.xz', compression='xz')\n",
    "test_df.head()"
   ]
  },
  {
   "cell_type": "markdown",
   "metadata": {},
   "source": [
    "Test set doesn't have codes, so using it with our existing dataset will hang. To circumvent this, I'll add a blank set of codes for every row."
   ]
  },
  {
   "cell_type": "code",
   "execution_count": 40,
   "metadata": {},
   "outputs": [],
   "source": [
    "test_df['codes']=[[]]*len(test_df)"
   ]
  },
  {
   "cell_type": "code",
   "execution_count": 41,
   "metadata": {},
   "outputs": [],
   "source": [
    "test_df = clean_df(test_df)"
   ]
  },
  {
   "cell_type": "markdown",
   "metadata": {},
   "source": [
    "## Predict for test set\n",
    "\n",
    "You will be asked to return your predictions a separate test set.  These should be returned as a matrix with one row for each test article.  Each row contains a binary prediction for each label, 1 if it's present in the image, and 0 if not. The order of the labels is the order of the label (topic) codes.\n",
    "\n",
    "An example row could like like this if your system predicts the presense of the second and fourth topic:\n",
    "\n",
    "    0 1 0 1 0 0 0 0 0 0 0 0 0 0 ...\n",
    "    \n",
    "If you have the matrix prepared in `y` you can use the following function to save it to a text file."
   ]
  },
  {
   "cell_type": "code",
   "execution_count": null,
   "metadata": {},
   "outputs": [],
   "source": []
  },
  {
   "cell_type": "markdown",
   "metadata": {},
   "source": [
    "This function will iterate through a given dataset and predict labels using our model. Result is a matrix where each example has a vector of size `output_dim` storing the predicted labels."
   ]
  },
  {
   "cell_type": "code",
   "execution_count": 42,
   "metadata": {},
   "outputs": [],
   "source": [
    "def predict(data_loader):\n",
    "    result = np.zeros((len(data_loader.dataset),output_dim))\n",
    "    model.eval()\n",
    "    pos = 0\n",
    "    for (batch_idx,(X,y)) in enumerate(data_loader):\n",
    "        X = X.to(device)\n",
    "        output = model(X)\n",
    "        output = torch.round(torch.sigmoid(output))\n",
    "        result[pos:pos+len(X),] = output.cpu().detach().numpy()\n",
    "        pos += len(X)\n",
    "    return result"
   ]
  },
  {
   "cell_type": "markdown",
   "metadata": {},
   "source": [
    "Build a dataset for `test_df` and calculate predictions."
   ]
  },
  {
   "cell_type": "code",
   "execution_count": 43,
   "metadata": {},
   "outputs": [],
   "source": [
    "competition_set = ReutersDataset(test_df)\n",
    "\n",
    "batch_size = 64\n",
    "competition_loader = torch.utils.data.DataLoader(dataset=competition_set, batch_size=batch_size,\n",
    "                                           collate_fn=pad_collate, shuffle=False, num_workers=4)\n",
    "\n",
    "prediction = predict(competition_loader)"
   ]
  },
  {
   "cell_type": "markdown",
   "metadata": {},
   "source": [
    "Average number of labels predicted by the model is"
   ]
  },
  {
   "cell_type": "code",
   "execution_count": 45,
   "metadata": {},
   "outputs": [
    {
     "data": {
      "text/plain": [
       "2.747359845513246"
      ]
     },
     "execution_count": 45,
     "metadata": {},
     "output_type": "execute_result"
    }
   ],
   "source": [
    "np.mean([np.sum(p) for p in prediction])"
   ]
  },
  {
   "cell_type": "markdown",
   "metadata": {},
   "source": [
    "Save predictions to `results.txt`"
   ]
  },
  {
   "cell_type": "code",
   "execution_count": 46,
   "metadata": {},
   "outputs": [],
   "source": [
    "np.savetxt('results.txt', prediction, fmt='%d')"
   ]
  },
  {
   "cell_type": "code",
   "execution_count": null,
   "metadata": {},
   "outputs": [],
   "source": []
  }
 ],
 "metadata": {
  "kernelspec": {
   "display_name": "Python 3",
   "language": "python",
   "name": "python3"
  },
  "language_info": {
   "codemirror_mode": {
    "name": "ipython",
    "version": 3
   },
   "file_extension": ".py",
   "mimetype": "text/x-python",
   "name": "python",
   "nbconvert_exporter": "python",
   "pygments_lexer": "ipython3",
   "version": "3.7.1"
  }
 },
 "nbformat": 4,
 "nbformat_minor": 2
}
